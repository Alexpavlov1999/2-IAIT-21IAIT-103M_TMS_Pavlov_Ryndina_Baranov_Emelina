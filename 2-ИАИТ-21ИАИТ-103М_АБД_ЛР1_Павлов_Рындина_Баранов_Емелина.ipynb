{
 "cells": [
  {
   "cell_type": "markdown",
   "metadata": {},
   "source": [
    "![СамГТУ](data:image/png;base64,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 \"СамГТУ\") \n",
    "<p style = 'text-align: center'>\n",
    "МИНИСТЕРСТВО ОБРАЗОВАНИЯ И НАУКИ РОССИЙСКОЙ ФЕДЕРАЦИИ<br>\n",
    "Федеральное государственное бюджетное образовательное учреждение высшего образования<br>\n",
    "«Самарский государственный технический университет»<br>\n",
    "(ФГБОУ ВО «СамГТУ»)<br>\n",
    "Институт автоматики и информационных технологий<br>\n",
    "Кафедра \"Вычислительная техника\"</p><br><br><br><br><br><br>\n",
    "<h3 style = 'text-align: center'> Отчёт о выполнении лабораторной работы №1<br></h3>\n",
    "<h3 style = 'text-align: center'> По дисциплине \"Анализ больших данных\"<br></h3>\n",
    "<h3 style = 'text-align: center'> На тему \"Введение в BigData\"<br></h3><br><br><br><br><br><br>\n",
    "<p style = 'text-align: right'>\n",
    "Проверил: профессор, д.т.н. Гавлиевский С. Л.<br><br>\n",
    "Выполнили: студенты 2-ИАИТ-21ИАИТ-103М<br>\n",
    "Павлов А. С.<br>\n",
    "Рындина М. С.<br>\n",
    "Баранов А. С.<br>\n",
    "Емелина А. А.<br><br><br>\n",
    "</p>\n",
    "<p style = 'text-align: center'>\n",
    "Самара 2022<br><br><br>\n",
    "</p>"
   ]
  },
  {
   "cell_type": "markdown",
   "metadata": {},
   "source": [
    "## 1. Структурированные списки"
   ]
  },
  {
   "cell_type": "markdown",
   "metadata": {},
   "source": [
    "### 1.1. Структурированные списки"
   ]
  },
  {
   "cell_type": "markdown",
   "metadata": {},
   "source": [
    "#### 1.1.1. Создание структурированного списка"
   ]
  },
  {
   "cell_type": "code",
   "execution_count": 1,
   "metadata": {},
   "outputs": [],
   "source": [
    "#Импорт\n",
    "import numpy as np\n",
    "#Создание структурированного списка\n",
    "info = np.array([(1, 'Tom', 1111, 111111, '89869501111', 'tom@mail.ru', 'Org1', 20000), \n",
    "                 (2, 'Bob', 2222, 222222, '89869502222', 'bob@mail.ru', 'Org2', 30000), \n",
    "                 (3, 'Katy', 3333, 333333, '89869503333', 'katy@mail.ru', 'Org3', 50000)],\n",
    "             dtype=[('id', int),\n",
    "                    ('name', 'U10'),\n",
    "                    ('passport_series', int),\n",
    "                    ('passport_number', int),\n",
    "                    ('phone', 'U11'),\n",
    "                    ('email', 'U20'),\n",
    "                    ('workplace', 'U20'),\n",
    "                    ('salary', float) \n",
    "                   ])"
   ]
  },
  {
   "cell_type": "markdown",
   "metadata": {},
   "source": [
    "#### 1.1.2. Вывод структурированного списка с указанием типа данных"
   ]
  },
  {
   "cell_type": "code",
   "execution_count": 2,
   "metadata": {},
   "outputs": [
    {
     "data": {
      "text/plain": [
       "array([(1, 'Tom', 1111, 111111, '89869501111', 'tom@mail.ru', 'Org1', 20000.),\n",
       "       (2, 'Bob', 2222, 222222, '89869502222', 'bob@mail.ru', 'Org2', 30000.),\n",
       "       (3, 'Katy', 3333, 333333, '89869503333', 'katy@mail.ru', 'Org3', 50000.)],\n",
       "      dtype=[('id', '<i4'), ('name', '<U10'), ('passport_series', '<i4'), ('passport_number', '<i4'), ('phone', '<U11'), ('email', '<U20'), ('workplace', '<U20'), ('salary', '<f8')])"
      ]
     },
     "execution_count": 2,
     "metadata": {},
     "output_type": "execute_result"
    }
   ],
   "source": [
    "#Вывод списка\n",
    "info"
   ]
  },
  {
   "cell_type": "markdown",
   "metadata": {},
   "source": [
    "#### 1.1.3. Вывод содержимого структурированного списка "
   ]
  },
  {
   "cell_type": "code",
   "execution_count": 3,
   "metadata": {
    "scrolled": true
   },
   "outputs": [
    {
     "name": "stdout",
     "output_type": "stream",
     "text": [
      "[(1, 'Tom', 1111, 111111, '89869501111', 'tom@mail.ru', 'Org1', 20000.)\n",
      " (2, 'Bob', 2222, 222222, '89869502222', 'bob@mail.ru', 'Org2', 30000.)\n",
      " (3, 'Katy', 3333, 333333, '89869503333', 'katy@mail.ru', 'Org3', 50000.)]\n"
     ]
    }
   ],
   "source": [
    "#Вывод содержимого списка\n",
    "print(info)"
   ]
  },
  {
   "cell_type": "markdown",
   "metadata": {},
   "source": [
    "#### 1.1.4. Обращение к элементу структурированного списка по индексу"
   ]
  },
  {
   "cell_type": "code",
   "execution_count": 4,
   "metadata": {},
   "outputs": [
    {
     "name": "stdout",
     "output_type": "stream",
     "text": [
      "<class 'numpy.void'> (1, 'Tom', 1111, 111111, '89869501111', 'tom@mail.ru', 'Org1', 20000.)\n"
     ]
    }
   ],
   "source": [
    "#Получение элемента\n",
    "a = info[0]\n",
    "#Вывод\n",
    "print(type(a), a)"
   ]
  },
  {
   "cell_type": "markdown",
   "metadata": {},
   "source": [
    "#### 1.1.5. Обращение к элементам структурированного списка с помощью среза"
   ]
  },
  {
   "cell_type": "code",
   "execution_count": 5,
   "metadata": {},
   "outputs": [
    {
     "data": {
      "text/plain": [
       "array([(1, 'Tom', 1111, 111111, '89869501111', 'tom@mail.ru', 'Org1', 20000.),\n",
       "       (2, 'Bob', 2222, 222222, '89869502222', 'bob@mail.ru', 'Org2', 30000.)],\n",
       "      dtype=[('id', '<i4'), ('name', '<U10'), ('passport_series', '<i4'), ('passport_number', '<i4'), ('phone', '<U11'), ('email', '<U20'), ('workplace', '<U20'), ('salary', '<f8')])"
      ]
     },
     "execution_count": 5,
     "metadata": {},
     "output_type": "execute_result"
    }
   ],
   "source": [
    "#Получение элементов по срезу\n",
    "info[0:2]"
   ]
  },
  {
   "cell_type": "markdown",
   "metadata": {},
   "source": [
    "#### 1.1.6. Получение значений из структурированного списка по одному полю"
   ]
  },
  {
   "cell_type": "code",
   "execution_count": 6,
   "metadata": {},
   "outputs": [
    {
     "data": {
      "text/plain": [
       "array(['tom@mail.ru', 'bob@mail.ru', 'katy@mail.ru'], dtype='<U20')"
      ]
     },
     "execution_count": 6,
     "metadata": {},
     "output_type": "execute_result"
    }
   ],
   "source": [
    "#Получение значений по полю\n",
    "info['email']"
   ]
  },
  {
   "cell_type": "markdown",
   "metadata": {},
   "source": [
    "#### 1.1.7. Получение значений из структурированного списка по двумя полям"
   ]
  },
  {
   "cell_type": "code",
   "execution_count": 7,
   "metadata": {
    "scrolled": true
   },
   "outputs": [
    {
     "data": {
      "text/plain": [
       "array([('Tom', 'Org1'), ('Bob', 'Org2'), ('Katy', 'Org3')],\n",
       "      dtype={'names':['name','workplace'], 'formats':['<U10','<U20'], 'offsets':[4,176], 'itemsize':264})"
      ]
     },
     "execution_count": 7,
     "metadata": {},
     "output_type": "execute_result"
    }
   ],
   "source": [
    "#Получение значений по двум полям\n",
    "info[['name', 'workplace']]"
   ]
  },
  {
   "cell_type": "markdown",
   "metadata": {},
   "source": [
    "#### 1.1.8. Получение значений для нулевого элемента структурированного списка по двумя полям"
   ]
  },
  {
   "cell_type": "code",
   "execution_count": 8,
   "metadata": {},
   "outputs": [
    {
     "data": {
      "text/plain": [
       "('Tom', 'Org1')"
      ]
     },
     "execution_count": 8,
     "metadata": {},
     "output_type": "execute_result"
    }
   ],
   "source": [
    "#Получение значений для нулевого элемента по двум полям\n",
    "info[['name', 'workplace']][0]"
   ]
  },
  {
   "cell_type": "markdown",
   "metadata": {},
   "source": [
    "#### 1.1.9. Получение значений для первого элемента структурированного списка по двумя полям"
   ]
  },
  {
   "cell_type": "code",
   "execution_count": 9,
   "metadata": {},
   "outputs": [
    {
     "data": {
      "text/plain": [
       "('Bob', 'Org2')"
      ]
     },
     "execution_count": 9,
     "metadata": {},
     "output_type": "execute_result"
    }
   ],
   "source": [
    "#Получение значений для первого элемента по двум полям\n",
    "info[['name', 'workplace']][1]"
   ]
  },
  {
   "cell_type": "markdown",
   "metadata": {},
   "source": [
    "#### 1.1.10. Изменение элемента структурированного списка"
   ]
  },
  {
   "cell_type": "code",
   "execution_count": 10,
   "metadata": {},
   "outputs": [
    {
     "data": {
      "text/plain": [
       "array([(1, 'Tom', 1111, 111111, '89869501111', 'tom@mail.ru', 'Org1', 20000.),\n",
       "       (2, 'Bob', 2222, 222222, '89869502222', 'bob@mail.ru', 'Org2', 30000.),\n",
       "       (4, 'Mike', 4444, 444444, '89869504444', 'mike@mail.ru', 'Org4', 40000.)],\n",
       "      dtype=[('id', '<i4'), ('name', '<U10'), ('passport_series', '<i4'), ('passport_number', '<i4'), ('phone', '<U11'), ('email', '<U20'), ('workplace', '<U20'), ('salary', '<f8')])"
      ]
     },
     "execution_count": 10,
     "metadata": {},
     "output_type": "execute_result"
    }
   ],
   "source": [
    "#Изменение элемента\n",
    "info[2] = (4, 'Mike', 4444, 444444, '89869504444', 'mike@mail.ru', 'Org4', 40000)\n",
    "#Вывод\n",
    "info"
   ]
  },
  {
   "cell_type": "markdown",
   "metadata": {},
   "source": [
    "#### 1.1.11. Изменение одного поля элемента структурированного списка"
   ]
  },
  {
   "cell_type": "code",
   "execution_count": 11,
   "metadata": {
    "scrolled": false
   },
   "outputs": [
    {
     "data": {
      "text/plain": [
       "array([(1, 'Tom', 1111, 111111, '89869501111', 'tom@mail.ru', 'Org1', 25000.),\n",
       "       (2, 'Bob', 2222, 222222, '89869502222', 'bob@mail.ru', 'Org2', 30000.),\n",
       "       (4, 'Mike', 4444, 444444, '89869504444', 'mike@mail.ru', 'Org4', 40000.)],\n",
       "      dtype=[('id', '<i4'), ('name', '<U10'), ('passport_series', '<i4'), ('passport_number', '<i4'), ('phone', '<U11'), ('email', '<U20'), ('workplace', '<U20'), ('salary', '<f8')])"
      ]
     },
     "execution_count": 11,
     "metadata": {},
     "output_type": "execute_result"
    }
   ],
   "source": [
    "#Изменение поля элемента\n",
    "info['salary'][0] = 25000\n",
    "#Вывод\n",
    "info"
   ]
  },
  {
   "cell_type": "markdown",
   "metadata": {},
   "source": [
    "### 1.2. Чтение / запись списков"
   ]
  },
  {
   "cell_type": "markdown",
   "metadata": {},
   "source": [
    "#### 1.2.1. Создание структурированного списка"
   ]
  },
  {
   "cell_type": "code",
   "execution_count": 12,
   "metadata": {},
   "outputs": [
    {
     "data": {
      "text/plain": [
       "array([(1, 'Tom', 1111, 111111, '89869501111', 'tom@mail.ru', 'Org1', 20000.),\n",
       "       (2, 'Bob', 2222, 222222, '89869502222', 'bob@mail.ru', 'Org2', 30000.),\n",
       "       (3, 'Katy', 3333, 333333, '89869503333', 'katy@mail.ru', 'Org3', 50000.)],\n",
       "      dtype=[('id', '<i4'), ('name', '<U10'), ('passport_series', '<i4'), ('passport_number', '<i4'), ('phone', '<U11'), ('email', '<U20'), ('workplace', '<U20'), ('salary', '<f8')])"
      ]
     },
     "execution_count": 12,
     "metadata": {},
     "output_type": "execute_result"
    }
   ],
   "source": [
    "#Импорт\n",
    "import numpy as np\n",
    "#Создание структурированного списка\n",
    "#Создание структурированного списка\n",
    "info = np.array([(1, 'Tom', 1111, 111111, '89869501111', 'tom@mail.ru', 'Org1', 20000), \n",
    "                 (2, 'Bob', 2222, 222222, '89869502222', 'bob@mail.ru', 'Org2', 30000), \n",
    "                 (3, 'Katy', 3333, 333333, '89869503333', 'katy@mail.ru', 'Org3', 50000)],\n",
    "             dtype=[('id', int),\n",
    "                    ('name', 'U10'),\n",
    "                    ('passport_series', int),\n",
    "                    ('passport_number', int),\n",
    "                    ('phone', 'U11'),\n",
    "                    ('email', 'U20'),\n",
    "                    ('workplace', 'U20'),\n",
    "                    ('salary', float) \n",
    "                   ])\n",
    "#Вывод списка\n",
    "info"
   ]
  },
  {
   "cell_type": "markdown",
   "metadata": {},
   "source": [
    "#### 1.2.2. Запись структурированного списка в файл формата .npy"
   ]
  },
  {
   "cell_type": "code",
   "execution_count": 13,
   "metadata": {},
   "outputs": [],
   "source": [
    "#Запись списка в файл info.npy\n",
    "np.save(\"info.npy\", info)"
   ]
  },
  {
   "cell_type": "markdown",
   "metadata": {},
   "source": [
    "#### 1.2.3. Чтение структурированного списка из файла формата .npy"
   ]
  },
  {
   "cell_type": "code",
   "execution_count": 14,
   "metadata": {},
   "outputs": [
    {
     "data": {
      "text/plain": [
       "array([(1, 'Tom', 1111, 111111, '89869501111', 'tom@mail.ru', 'Org1', 20000.),\n",
       "       (2, 'Bob', 2222, 222222, '89869502222', 'bob@mail.ru', 'Org2', 30000.),\n",
       "       (3, 'Katy', 3333, 333333, '89869503333', 'katy@mail.ru', 'Org3', 50000.)],\n",
       "      dtype=[('id', '<i4'), ('name', '<U10'), ('passport_series', '<i4'), ('passport_number', '<i4'), ('phone', '<U11'), ('email', '<U20'), ('workplace', '<U20'), ('salary', '<f8')])"
      ]
     },
     "execution_count": 14,
     "metadata": {},
     "output_type": "execute_result"
    }
   ],
   "source": [
    "#Чтение списка из файла info.npy\n",
    "np.load(\"info.npy\")"
   ]
  },
  {
   "cell_type": "markdown",
   "metadata": {},
   "source": [
    "#### 1.2.4. Запись массива в файл формата .txt"
   ]
  },
  {
   "cell_type": "code",
   "execution_count": 15,
   "metadata": {},
   "outputs": [],
   "source": [
    "#Создание массива\n",
    "salaries = np.array([20000., 30000., 40000., 50000.])\n",
    "#Запись массива в файл ages.txt\n",
    "np.savetxt(\"salaries.txt\", salaries)"
   ]
  },
  {
   "cell_type": "markdown",
   "metadata": {},
   "source": [
    "#### 1.2.5. Чтение массива из файла формата .txt"
   ]
  },
  {
   "cell_type": "code",
   "execution_count": 16,
   "metadata": {},
   "outputs": [
    {
     "data": {
      "text/plain": [
       "array([20000., 30000., 40000., 50000.])"
      ]
     },
     "execution_count": 16,
     "metadata": {},
     "output_type": "execute_result"
    }
   ],
   "source": [
    "#Чтение массива из файла ages.txt\n",
    "np.loadtxt(\"salaries.txt\")"
   ]
  },
  {
   "cell_type": "markdown",
   "metadata": {},
   "source": [
    "#### 1.2.6. Преобразование массива в список"
   ]
  },
  {
   "cell_type": "code",
   "execution_count": 17,
   "metadata": {},
   "outputs": [
    {
     "data": {
      "text/plain": [
       "[(1, 'Tom', 1111, 111111, '89869501111', 'tom@mail.ru', 'Org1', 20000.0),\n",
       " (2, 'Bob', 2222, 222222, '89869502222', 'bob@mail.ru', 'Org2', 30000.0),\n",
       " (3, 'Katy', 3333, 333333, '89869503333', 'katy@mail.ru', 'Org3', 50000.0)]"
      ]
     },
     "execution_count": 17,
     "metadata": {},
     "output_type": "execute_result"
    }
   ],
   "source": [
    "#Преобразование в список\n",
    "info.tolist()"
   ]
  },
  {
   "cell_type": "markdown",
   "metadata": {},
   "source": [
    "#### 1.2.7. Преобразование массива в строку"
   ]
  },
  {
   "cell_type": "code",
   "execution_count": 18,
   "metadata": {
    "scrolled": false
   },
   "outputs": [
    {
     "data": {
      "text/plain": [
       "\"[(1, 'Tom', 1111, 111111, '89869501111', 'tom@mail.ru', 'Org1', 20000.)\\n (2, 'Bob', 2222, 222222, '89869502222', 'bob@mail.ru', 'Org2', 30000.)\\n (3, 'Katy', 3333, 333333, '89869503333', 'katy@mail.ru', 'Org3', 50000.)]\""
      ]
     },
     "execution_count": 18,
     "metadata": {},
     "output_type": "execute_result"
    }
   ],
   "source": [
    "#Преобразование в строку\n",
    "np.array2string(info)"
   ]
  },
  {
   "cell_type": "markdown",
   "metadata": {},
   "source": [
    "## 2. Библиотека Pandas"
   ]
  },
  {
   "cell_type": "markdown",
   "metadata": {},
   "source": [
    "### 2.1. Основные структуры"
   ]
  },
  {
   "cell_type": "markdown",
   "metadata": {},
   "source": [
    "#### 2.1.1. Создание датафрейма"
   ]
  },
  {
   "cell_type": "code",
   "execution_count": 19,
   "metadata": {},
   "outputs": [
    {
     "data": {
      "text/html": [
       "<div>\n",
       "<style scoped>\n",
       "    .dataframe tbody tr th:only-of-type {\n",
       "        vertical-align: middle;\n",
       "    }\n",
       "\n",
       "    .dataframe tbody tr th {\n",
       "        vertical-align: top;\n",
       "    }\n",
       "\n",
       "    .dataframe thead th {\n",
       "        text-align: right;\n",
       "    }\n",
       "</style>\n",
       "<table border=\"1\" class=\"dataframe\">\n",
       "  <thead>\n",
       "    <tr style=\"text-align: right;\">\n",
       "      <th></th>\n",
       "      <th>0</th>\n",
       "      <th>1</th>\n",
       "      <th>2</th>\n",
       "      <th>3</th>\n",
       "      <th>4</th>\n",
       "      <th>5</th>\n",
       "      <th>6</th>\n",
       "      <th>7</th>\n",
       "    </tr>\n",
       "  </thead>\n",
       "  <tbody>\n",
       "    <tr>\n",
       "      <th>0</th>\n",
       "      <td>1</td>\n",
       "      <td>Tom</td>\n",
       "      <td>1111</td>\n",
       "      <td>111111</td>\n",
       "      <td>89869501111</td>\n",
       "      <td>tom@mail.ru</td>\n",
       "      <td>Org1</td>\n",
       "      <td>20000</td>\n",
       "    </tr>\n",
       "    <tr>\n",
       "      <th>1</th>\n",
       "      <td>2</td>\n",
       "      <td>Bob</td>\n",
       "      <td>2222</td>\n",
       "      <td>222222</td>\n",
       "      <td>89869502222</td>\n",
       "      <td>bob@mail.ru</td>\n",
       "      <td>Org2</td>\n",
       "      <td>25000</td>\n",
       "    </tr>\n",
       "    <tr>\n",
       "      <th>2</th>\n",
       "      <td>3</td>\n",
       "      <td>Mike</td>\n",
       "      <td>3333</td>\n",
       "      <td>333333</td>\n",
       "      <td>89869503333</td>\n",
       "      <td>mike@mail.ru</td>\n",
       "      <td>Org3</td>\n",
       "      <td>30000</td>\n",
       "    </tr>\n",
       "    <tr>\n",
       "      <th>3</th>\n",
       "      <td>4</td>\n",
       "      <td>John</td>\n",
       "      <td>4444</td>\n",
       "      <td>444444</td>\n",
       "      <td>89869504444</td>\n",
       "      <td>john@mail.ru</td>\n",
       "      <td>Org4</td>\n",
       "      <td>35000</td>\n",
       "    </tr>\n",
       "    <tr>\n",
       "      <th>4</th>\n",
       "      <td>5</td>\n",
       "      <td>Sam</td>\n",
       "      <td>5555</td>\n",
       "      <td>555555</td>\n",
       "      <td>89869505555</td>\n",
       "      <td>sam@mail.ru</td>\n",
       "      <td>Org5</td>\n",
       "      <td>40000</td>\n",
       "    </tr>\n",
       "    <tr>\n",
       "      <th>5</th>\n",
       "      <td>6</td>\n",
       "      <td>Katy</td>\n",
       "      <td>6666</td>\n",
       "      <td>666666</td>\n",
       "      <td>89869506666</td>\n",
       "      <td>katy@mail.ru</td>\n",
       "      <td>None</td>\n",
       "      <td>0</td>\n",
       "    </tr>\n",
       "  </tbody>\n",
       "</table>\n",
       "</div>"
      ],
      "text/plain": [
       "   0     1     2       3            4             5     6      7\n",
       "0  1   Tom  1111  111111  89869501111   tom@mail.ru  Org1  20000\n",
       "1  2   Bob  2222  222222  89869502222   bob@mail.ru  Org2  25000\n",
       "2  3  Mike  3333  333333  89869503333  mike@mail.ru  Org3  30000\n",
       "3  4  John  4444  444444  89869504444  john@mail.ru  Org4  35000\n",
       "4  5   Sam  5555  555555  89869505555   sam@mail.ru  Org5  40000\n",
       "5  6  Katy  6666  666666  89869506666  katy@mail.ru  None      0"
      ]
     },
     "execution_count": 19,
     "metadata": {},
     "output_type": "execute_result"
    }
   ],
   "source": [
    "#Импорт\n",
    "import pandas as pd\n",
    "#Создание датафрейма\n",
    "df = pd.DataFrame([[1, 'Tom', 1111, 111111, '89869501111', 'tom@mail.ru', 'Org1', 20000], \n",
    "                   [2, 'Bob', 2222, 222222, '89869502222', 'bob@mail.ru', 'Org2', 25000], \n",
    "                   [3, 'Mike', 3333, 333333, '89869503333', 'mike@mail.ru', 'Org3', 30000],\n",
    "                   [4, 'John', 4444, 444444, '89869504444', 'john@mail.ru', 'Org4', 35000],\n",
    "                   [5, 'Sam', 5555, 555555, '89869505555', 'sam@mail.ru', 'Org5', 40000],\n",
    "                   [6, 'Katy', 6666, 666666, '89869506666', 'katy@mail.ru', None, 0]])\n",
    "#Вывод\n",
    "df"
   ]
  },
  {
   "cell_type": "markdown",
   "metadata": {},
   "source": [
    "#### 2.1.2. Вывод типа датафрейма"
   ]
  },
  {
   "cell_type": "code",
   "execution_count": 20,
   "metadata": {},
   "outputs": [
    {
     "data": {
      "text/plain": [
       "pandas.core.frame.DataFrame"
      ]
     },
     "execution_count": 20,
     "metadata": {},
     "output_type": "execute_result"
    }
   ],
   "source": [
    "#Вывод типа датафрейма\n",
    "type(df)"
   ]
  },
  {
   "cell_type": "markdown",
   "metadata": {},
   "source": [
    "#### 2.1.3. Обращение к столбцу датафрейма"
   ]
  },
  {
   "cell_type": "code",
   "execution_count": 21,
   "metadata": {},
   "outputs": [
    {
     "data": {
      "text/plain": [
       "0     tom@mail.ru\n",
       "1     bob@mail.ru\n",
       "2    mike@mail.ru\n",
       "3    john@mail.ru\n",
       "4     sam@mail.ru\n",
       "5    katy@mail.ru\n",
       "Name: 5, dtype: object"
      ]
     },
     "execution_count": 21,
     "metadata": {},
     "output_type": "execute_result"
    }
   ],
   "source": [
    "#Обращение к столбцу датафрейма\n",
    "df[5]"
   ]
  },
  {
   "cell_type": "markdown",
   "metadata": {},
   "source": [
    "### 2.2. Индексы и метод .iloc"
   ]
  },
  {
   "cell_type": "markdown",
   "metadata": {},
   "source": [
    "#### 2.2.1. Создание датафрейма"
   ]
  },
  {
   "cell_type": "code",
   "execution_count": 22,
   "metadata": {},
   "outputs": [],
   "source": [
    "#Импорт\n",
    "import pandas as pd\n",
    "#Создание датафрейма\n",
    "df = pd.DataFrame([[1, 'Tom', 1111, 111111, '89869501111', 'tom@mail.ru', 'Org1', 20000], \n",
    "                   [2, 'Bob', 2222, 222222, '89869502222', 'bob@mail.ru', 'Org2', 25000], \n",
    "                   [3, 'Mike', 3333, 333333, '89869503333', 'mike@mail.ru', 'Org3', 30000],\n",
    "                   [4, 'John', 4444, 444444, '89869504444', 'john@mail.ru', 'Org4', 35000],\n",
    "                   [5, 'Sam', 5555, 555555, '89869505555', 'sam@mail.ru', 'Org5', 40000],\n",
    "                   [6, 'Katy', 6666, 666666, '89869506666', 'katy@mail.ru', None, 0]])"
   ]
  },
  {
   "cell_type": "markdown",
   "metadata": {},
   "source": [
    "#### 2.2.2. Наименование столбцов датафрейма"
   ]
  },
  {
   "cell_type": "code",
   "execution_count": 23,
   "metadata": {},
   "outputs": [
    {
     "data": {
      "text/html": [
       "<div>\n",
       "<style scoped>\n",
       "    .dataframe tbody tr th:only-of-type {\n",
       "        vertical-align: middle;\n",
       "    }\n",
       "\n",
       "    .dataframe tbody tr th {\n",
       "        vertical-align: top;\n",
       "    }\n",
       "\n",
       "    .dataframe thead th {\n",
       "        text-align: right;\n",
       "    }\n",
       "</style>\n",
       "<table border=\"1\" class=\"dataframe\">\n",
       "  <thead>\n",
       "    <tr style=\"text-align: right;\">\n",
       "      <th></th>\n",
       "      <th>id</th>\n",
       "      <th>name</th>\n",
       "      <th>passport_series</th>\n",
       "      <th>passport_number</th>\n",
       "      <th>phone</th>\n",
       "      <th>email</th>\n",
       "      <th>workplace</th>\n",
       "      <th>salary</th>\n",
       "    </tr>\n",
       "  </thead>\n",
       "  <tbody>\n",
       "    <tr>\n",
       "      <th>0</th>\n",
       "      <td>1</td>\n",
       "      <td>Tom</td>\n",
       "      <td>1111</td>\n",
       "      <td>111111</td>\n",
       "      <td>89869501111</td>\n",
       "      <td>tom@mail.ru</td>\n",
       "      <td>Org1</td>\n",
       "      <td>20000</td>\n",
       "    </tr>\n",
       "    <tr>\n",
       "      <th>1</th>\n",
       "      <td>2</td>\n",
       "      <td>Bob</td>\n",
       "      <td>2222</td>\n",
       "      <td>222222</td>\n",
       "      <td>89869502222</td>\n",
       "      <td>bob@mail.ru</td>\n",
       "      <td>Org2</td>\n",
       "      <td>25000</td>\n",
       "    </tr>\n",
       "    <tr>\n",
       "      <th>2</th>\n",
       "      <td>3</td>\n",
       "      <td>Mike</td>\n",
       "      <td>3333</td>\n",
       "      <td>333333</td>\n",
       "      <td>89869503333</td>\n",
       "      <td>mike@mail.ru</td>\n",
       "      <td>Org3</td>\n",
       "      <td>30000</td>\n",
       "    </tr>\n",
       "    <tr>\n",
       "      <th>3</th>\n",
       "      <td>4</td>\n",
       "      <td>John</td>\n",
       "      <td>4444</td>\n",
       "      <td>444444</td>\n",
       "      <td>89869504444</td>\n",
       "      <td>john@mail.ru</td>\n",
       "      <td>Org4</td>\n",
       "      <td>35000</td>\n",
       "    </tr>\n",
       "    <tr>\n",
       "      <th>4</th>\n",
       "      <td>5</td>\n",
       "      <td>Sam</td>\n",
       "      <td>5555</td>\n",
       "      <td>555555</td>\n",
       "      <td>89869505555</td>\n",
       "      <td>sam@mail.ru</td>\n",
       "      <td>Org5</td>\n",
       "      <td>40000</td>\n",
       "    </tr>\n",
       "    <tr>\n",
       "      <th>5</th>\n",
       "      <td>6</td>\n",
       "      <td>Katy</td>\n",
       "      <td>6666</td>\n",
       "      <td>666666</td>\n",
       "      <td>89869506666</td>\n",
       "      <td>katy@mail.ru</td>\n",
       "      <td>None</td>\n",
       "      <td>0</td>\n",
       "    </tr>\n",
       "  </tbody>\n",
       "</table>\n",
       "</div>"
      ],
      "text/plain": [
       "   id  name  passport_series  passport_number        phone         email  \\\n",
       "0   1   Tom             1111           111111  89869501111   tom@mail.ru   \n",
       "1   2   Bob             2222           222222  89869502222   bob@mail.ru   \n",
       "2   3  Mike             3333           333333  89869503333  mike@mail.ru   \n",
       "3   4  John             4444           444444  89869504444  john@mail.ru   \n",
       "4   5   Sam             5555           555555  89869505555   sam@mail.ru   \n",
       "5   6  Katy             6666           666666  89869506666  katy@mail.ru   \n",
       "\n",
       "  workplace  salary  \n",
       "0      Org1   20000  \n",
       "1      Org2   25000  \n",
       "2      Org3   30000  \n",
       "3      Org4   35000  \n",
       "4      Org5   40000  \n",
       "5      None       0  "
      ]
     },
     "execution_count": 23,
     "metadata": {},
     "output_type": "execute_result"
    }
   ],
   "source": [
    "#Наименование столбцов датафрейма\n",
    "df.columns = ['id', 'name', 'passport_series', 'passport_number', 'phone', 'email', 'workplace', 'salary']\n",
    "#Вывод\n",
    "df"
   ]
  },
  {
   "cell_type": "markdown",
   "metadata": {},
   "source": [
    "#### 2.2.3. Получение одного значения из датафрейма с помощью метода .iloc"
   ]
  },
  {
   "cell_type": "code",
   "execution_count": 24,
   "metadata": {},
   "outputs": [
    {
     "data": {
      "text/plain": [
       "'sam@mail.ru'"
      ]
     },
     "execution_count": 24,
     "metadata": {},
     "output_type": "execute_result"
    }
   ],
   "source": [
    "#Получение одного значения\n",
    "df.iloc[4, 5]"
   ]
  },
  {
   "cell_type": "markdown",
   "metadata": {},
   "source": [
    "#### 2.2.4. Получение нескольких значений из датафрейма с помощью метода .iloc (срез)"
   ]
  },
  {
   "cell_type": "code",
   "execution_count": 25,
   "metadata": {},
   "outputs": [
    {
     "data": {
      "text/plain": [
       "2    89869503333\n",
       "3    89869504444\n",
       "4    89869505555\n",
       "Name: phone, dtype: object"
      ]
     },
     "execution_count": 25,
     "metadata": {},
     "output_type": "execute_result"
    }
   ],
   "source": [
    "#Получение нескольких значений\n",
    "df.iloc[2:5, 4]"
   ]
  },
  {
   "cell_type": "markdown",
   "metadata": {},
   "source": [
    "#### 2.2.5. Получение нескольких значений из датафрейма с помощью метода .iloc (полный срез)"
   ]
  },
  {
   "cell_type": "code",
   "execution_count": 26,
   "metadata": {
    "scrolled": true
   },
   "outputs": [
    {
     "data": {
      "text/plain": [
       "0     Tom\n",
       "1     Bob\n",
       "2    Mike\n",
       "3    John\n",
       "4     Sam\n",
       "5    Katy\n",
       "Name: name, dtype: object"
      ]
     },
     "execution_count": 26,
     "metadata": {},
     "output_type": "execute_result"
    }
   ],
   "source": [
    "#Полный срез по строкам\n",
    "df.iloc[:, 1]"
   ]
  },
  {
   "cell_type": "code",
   "execution_count": 27,
   "metadata": {},
   "outputs": [
    {
     "data": {
      "text/html": [
       "<div>\n",
       "<style scoped>\n",
       "    .dataframe tbody tr th:only-of-type {\n",
       "        vertical-align: middle;\n",
       "    }\n",
       "\n",
       "    .dataframe tbody tr th {\n",
       "        vertical-align: top;\n",
       "    }\n",
       "\n",
       "    .dataframe thead th {\n",
       "        text-align: right;\n",
       "    }\n",
       "</style>\n",
       "<table border=\"1\" class=\"dataframe\">\n",
       "  <thead>\n",
       "    <tr style=\"text-align: right;\">\n",
       "      <th></th>\n",
       "      <th>id</th>\n",
       "      <th>name</th>\n",
       "      <th>passport_series</th>\n",
       "      <th>passport_number</th>\n",
       "      <th>phone</th>\n",
       "      <th>email</th>\n",
       "      <th>workplace</th>\n",
       "      <th>salary</th>\n",
       "    </tr>\n",
       "  </thead>\n",
       "  <tbody>\n",
       "    <tr>\n",
       "      <th>2</th>\n",
       "      <td>3</td>\n",
       "      <td>Mike</td>\n",
       "      <td>3333</td>\n",
       "      <td>333333</td>\n",
       "      <td>89869503333</td>\n",
       "      <td>mike@mail.ru</td>\n",
       "      <td>Org3</td>\n",
       "      <td>30000</td>\n",
       "    </tr>\n",
       "    <tr>\n",
       "      <th>3</th>\n",
       "      <td>4</td>\n",
       "      <td>John</td>\n",
       "      <td>4444</td>\n",
       "      <td>444444</td>\n",
       "      <td>89869504444</td>\n",
       "      <td>john@mail.ru</td>\n",
       "      <td>Org4</td>\n",
       "      <td>35000</td>\n",
       "    </tr>\n",
       "  </tbody>\n",
       "</table>\n",
       "</div>"
      ],
      "text/plain": [
       "   id  name  passport_series  passport_number        phone         email  \\\n",
       "2   3  Mike             3333           333333  89869503333  mike@mail.ru   \n",
       "3   4  John             4444           444444  89869504444  john@mail.ru   \n",
       "\n",
       "  workplace  salary  \n",
       "2      Org3   30000  \n",
       "3      Org4   35000  "
      ]
     },
     "execution_count": 27,
     "metadata": {},
     "output_type": "execute_result"
    }
   ],
   "source": [
    "#Полный срез по столбцам\n",
    "df.iloc[2:4, :]"
   ]
  },
  {
   "cell_type": "markdown",
   "metadata": {},
   "source": [
    "### 2.3. Индексы и метод .loc"
   ]
  },
  {
   "cell_type": "markdown",
   "metadata": {},
   "source": [
    "#### 2.3.1. Создание датафрейма"
   ]
  },
  {
   "cell_type": "code",
   "execution_count": 28,
   "metadata": {},
   "outputs": [],
   "source": [
    "#Импорт\n",
    "import pandas as pd\n",
    "#Создание датафрейма\n",
    "df = pd.DataFrame([[1, 'Tom', 1111, 111111, '89869501111', 'tom@mail.ru', 'Org1', 20000], \n",
    "                   [2, 'Bob', 2222, 222222, '89869502222', 'bob@mail.ru', 'Org2', 25000], \n",
    "                   [3, 'Mike', 3333, 333333, '89869503333', 'mike@mail.ru', 'Org3', 30000],\n",
    "                   [4, 'John', 4444, 444444, '89869504444', 'john@mail.ru', 'Org4', 35000],\n",
    "                   [5, 'Sam', 5555, 555555, '89869505555', 'sam@mail.ru', 'Org5', 40000],\n",
    "                   [6, 'Katy', 6666, 666666, '89869506666', 'katy@mail.ru', None, 0]])\n",
    "#Наименование столбцов датафрейма\n",
    "df.columns = ['id', 'name', 'passport_series', 'passport_number', 'phone', 'email', 'workplace', 'salary']"
   ]
  },
  {
   "cell_type": "markdown",
   "metadata": {},
   "source": [
    "#### 2.3.2. Выбор одного столбца по названию"
   ]
  },
  {
   "cell_type": "code",
   "execution_count": 29,
   "metadata": {},
   "outputs": [
    {
     "data": {
      "text/plain": [
       "0    Org1\n",
       "1    Org2\n",
       "2    Org3\n",
       "3    Org4\n",
       "4    Org5\n",
       "5    None\n",
       "Name: workplace, dtype: object"
      ]
     },
     "execution_count": 29,
     "metadata": {},
     "output_type": "execute_result"
    }
   ],
   "source": [
    "#Выбор одного столбца\n",
    "df['workplace']"
   ]
  },
  {
   "cell_type": "markdown",
   "metadata": {},
   "source": [
    "#### 2.3.3. Выбор нескольких столбцов по названию"
   ]
  },
  {
   "cell_type": "code",
   "execution_count": 30,
   "metadata": {},
   "outputs": [
    {
     "data": {
      "text/html": [
       "<div>\n",
       "<style scoped>\n",
       "    .dataframe tbody tr th:only-of-type {\n",
       "        vertical-align: middle;\n",
       "    }\n",
       "\n",
       "    .dataframe tbody tr th {\n",
       "        vertical-align: top;\n",
       "    }\n",
       "\n",
       "    .dataframe thead th {\n",
       "        text-align: right;\n",
       "    }\n",
       "</style>\n",
       "<table border=\"1\" class=\"dataframe\">\n",
       "  <thead>\n",
       "    <tr style=\"text-align: right;\">\n",
       "      <th></th>\n",
       "      <th>name</th>\n",
       "      <th>email</th>\n",
       "    </tr>\n",
       "  </thead>\n",
       "  <tbody>\n",
       "    <tr>\n",
       "      <th>0</th>\n",
       "      <td>Tom</td>\n",
       "      <td>tom@mail.ru</td>\n",
       "    </tr>\n",
       "    <tr>\n",
       "      <th>1</th>\n",
       "      <td>Bob</td>\n",
       "      <td>bob@mail.ru</td>\n",
       "    </tr>\n",
       "    <tr>\n",
       "      <th>2</th>\n",
       "      <td>Mike</td>\n",
       "      <td>mike@mail.ru</td>\n",
       "    </tr>\n",
       "    <tr>\n",
       "      <th>3</th>\n",
       "      <td>John</td>\n",
       "      <td>john@mail.ru</td>\n",
       "    </tr>\n",
       "    <tr>\n",
       "      <th>4</th>\n",
       "      <td>Sam</td>\n",
       "      <td>sam@mail.ru</td>\n",
       "    </tr>\n",
       "    <tr>\n",
       "      <th>5</th>\n",
       "      <td>Katy</td>\n",
       "      <td>katy@mail.ru</td>\n",
       "    </tr>\n",
       "  </tbody>\n",
       "</table>\n",
       "</div>"
      ],
      "text/plain": [
       "   name         email\n",
       "0   Tom   tom@mail.ru\n",
       "1   Bob   bob@mail.ru\n",
       "2  Mike  mike@mail.ru\n",
       "3  John  john@mail.ru\n",
       "4   Sam   sam@mail.ru\n",
       "5  Katy  katy@mail.ru"
      ]
     },
     "execution_count": 30,
     "metadata": {},
     "output_type": "execute_result"
    }
   ],
   "source": [
    "#Выбор нескольких столбцов\n",
    "df[['name', 'email']]"
   ]
  },
  {
   "cell_type": "markdown",
   "metadata": {},
   "source": [
    "#### 2.3.4. Выбор нескольких столбцов с помощью метода .loc (срез)"
   ]
  },
  {
   "cell_type": "code",
   "execution_count": 31,
   "metadata": {},
   "outputs": [
    {
     "data": {
      "text/html": [
       "<div>\n",
       "<style scoped>\n",
       "    .dataframe tbody tr th:only-of-type {\n",
       "        vertical-align: middle;\n",
       "    }\n",
       "\n",
       "    .dataframe tbody tr th {\n",
       "        vertical-align: top;\n",
       "    }\n",
       "\n",
       "    .dataframe thead th {\n",
       "        text-align: right;\n",
       "    }\n",
       "</style>\n",
       "<table border=\"1\" class=\"dataframe\">\n",
       "  <thead>\n",
       "    <tr style=\"text-align: right;\">\n",
       "      <th></th>\n",
       "      <th>name</th>\n",
       "      <th>passport_series</th>\n",
       "      <th>passport_number</th>\n",
       "    </tr>\n",
       "  </thead>\n",
       "  <tbody>\n",
       "    <tr>\n",
       "      <th>0</th>\n",
       "      <td>Tom</td>\n",
       "      <td>1111</td>\n",
       "      <td>111111</td>\n",
       "    </tr>\n",
       "    <tr>\n",
       "      <th>1</th>\n",
       "      <td>Bob</td>\n",
       "      <td>2222</td>\n",
       "      <td>222222</td>\n",
       "    </tr>\n",
       "    <tr>\n",
       "      <th>2</th>\n",
       "      <td>Mike</td>\n",
       "      <td>3333</td>\n",
       "      <td>333333</td>\n",
       "    </tr>\n",
       "    <tr>\n",
       "      <th>3</th>\n",
       "      <td>John</td>\n",
       "      <td>4444</td>\n",
       "      <td>444444</td>\n",
       "    </tr>\n",
       "    <tr>\n",
       "      <th>4</th>\n",
       "      <td>Sam</td>\n",
       "      <td>5555</td>\n",
       "      <td>555555</td>\n",
       "    </tr>\n",
       "    <tr>\n",
       "      <th>5</th>\n",
       "      <td>Katy</td>\n",
       "      <td>6666</td>\n",
       "      <td>666666</td>\n",
       "    </tr>\n",
       "  </tbody>\n",
       "</table>\n",
       "</div>"
      ],
      "text/plain": [
       "   name  passport_series  passport_number\n",
       "0   Tom             1111           111111\n",
       "1   Bob             2222           222222\n",
       "2  Mike             3333           333333\n",
       "3  John             4444           444444\n",
       "4   Sam             5555           555555\n",
       "5  Katy             6666           666666"
      ]
     },
     "execution_count": 31,
     "metadata": {},
     "output_type": "execute_result"
    }
   ],
   "source": [
    "#Выбор нескольких столбцов (метод .loc)\n",
    "df.loc[:, 'name':'passport_number']"
   ]
  },
  {
   "cell_type": "markdown",
   "metadata": {},
   "source": [
    "#### 2.3.5. Наименование строк по столбцу"
   ]
  },
  {
   "cell_type": "code",
   "execution_count": 32,
   "metadata": {},
   "outputs": [
    {
     "data": {
      "text/html": [
       "<div>\n",
       "<style scoped>\n",
       "    .dataframe tbody tr th:only-of-type {\n",
       "        vertical-align: middle;\n",
       "    }\n",
       "\n",
       "    .dataframe tbody tr th {\n",
       "        vertical-align: top;\n",
       "    }\n",
       "\n",
       "    .dataframe thead th {\n",
       "        text-align: right;\n",
       "    }\n",
       "</style>\n",
       "<table border=\"1\" class=\"dataframe\">\n",
       "  <thead>\n",
       "    <tr style=\"text-align: right;\">\n",
       "      <th></th>\n",
       "      <th>id</th>\n",
       "      <th>name</th>\n",
       "      <th>passport_series</th>\n",
       "      <th>passport_number</th>\n",
       "      <th>phone</th>\n",
       "      <th>email</th>\n",
       "      <th>workplace</th>\n",
       "      <th>salary</th>\n",
       "    </tr>\n",
       "    <tr>\n",
       "      <th>name</th>\n",
       "      <th></th>\n",
       "      <th></th>\n",
       "      <th></th>\n",
       "      <th></th>\n",
       "      <th></th>\n",
       "      <th></th>\n",
       "      <th></th>\n",
       "      <th></th>\n",
       "    </tr>\n",
       "  </thead>\n",
       "  <tbody>\n",
       "    <tr>\n",
       "      <th>Tom</th>\n",
       "      <td>1</td>\n",
       "      <td>Tom</td>\n",
       "      <td>1111</td>\n",
       "      <td>111111</td>\n",
       "      <td>89869501111</td>\n",
       "      <td>tom@mail.ru</td>\n",
       "      <td>Org1</td>\n",
       "      <td>20000</td>\n",
       "    </tr>\n",
       "    <tr>\n",
       "      <th>Bob</th>\n",
       "      <td>2</td>\n",
       "      <td>Bob</td>\n",
       "      <td>2222</td>\n",
       "      <td>222222</td>\n",
       "      <td>89869502222</td>\n",
       "      <td>bob@mail.ru</td>\n",
       "      <td>Org2</td>\n",
       "      <td>25000</td>\n",
       "    </tr>\n",
       "    <tr>\n",
       "      <th>Mike</th>\n",
       "      <td>3</td>\n",
       "      <td>Mike</td>\n",
       "      <td>3333</td>\n",
       "      <td>333333</td>\n",
       "      <td>89869503333</td>\n",
       "      <td>mike@mail.ru</td>\n",
       "      <td>Org3</td>\n",
       "      <td>30000</td>\n",
       "    </tr>\n",
       "    <tr>\n",
       "      <th>John</th>\n",
       "      <td>4</td>\n",
       "      <td>John</td>\n",
       "      <td>4444</td>\n",
       "      <td>444444</td>\n",
       "      <td>89869504444</td>\n",
       "      <td>john@mail.ru</td>\n",
       "      <td>Org4</td>\n",
       "      <td>35000</td>\n",
       "    </tr>\n",
       "    <tr>\n",
       "      <th>Sam</th>\n",
       "      <td>5</td>\n",
       "      <td>Sam</td>\n",
       "      <td>5555</td>\n",
       "      <td>555555</td>\n",
       "      <td>89869505555</td>\n",
       "      <td>sam@mail.ru</td>\n",
       "      <td>Org5</td>\n",
       "      <td>40000</td>\n",
       "    </tr>\n",
       "    <tr>\n",
       "      <th>Katy</th>\n",
       "      <td>6</td>\n",
       "      <td>Katy</td>\n",
       "      <td>6666</td>\n",
       "      <td>666666</td>\n",
       "      <td>89869506666</td>\n",
       "      <td>katy@mail.ru</td>\n",
       "      <td>None</td>\n",
       "      <td>0</td>\n",
       "    </tr>\n",
       "  </tbody>\n",
       "</table>\n",
       "</div>"
      ],
      "text/plain": [
       "      id  name  passport_series  passport_number        phone         email  \\\n",
       "name                                                                          \n",
       "Tom    1   Tom             1111           111111  89869501111   tom@mail.ru   \n",
       "Bob    2   Bob             2222           222222  89869502222   bob@mail.ru   \n",
       "Mike   3  Mike             3333           333333  89869503333  mike@mail.ru   \n",
       "John   4  John             4444           444444  89869504444  john@mail.ru   \n",
       "Sam    5   Sam             5555           555555  89869505555   sam@mail.ru   \n",
       "Katy   6  Katy             6666           666666  89869506666  katy@mail.ru   \n",
       "\n",
       "     workplace  salary  \n",
       "name                    \n",
       "Tom       Org1   20000  \n",
       "Bob       Org2   25000  \n",
       "Mike      Org3   30000  \n",
       "John      Org4   35000  \n",
       "Sam       Org5   40000  \n",
       "Katy      None       0  "
      ]
     },
     "execution_count": 32,
     "metadata": {},
     "output_type": "execute_result"
    }
   ],
   "source": [
    "#Наименование\n",
    "df.index = df.name\n",
    "#Вывод\n",
    "df"
   ]
  },
  {
   "cell_type": "markdown",
   "metadata": {},
   "source": [
    "#### 2.3.6. Выбор одной строки по названию с помощью метода .loc"
   ]
  },
  {
   "cell_type": "code",
   "execution_count": 33,
   "metadata": {},
   "outputs": [
    {
     "data": {
      "text/plain": [
       "'mike@mail.ru'"
      ]
     },
     "execution_count": 33,
     "metadata": {},
     "output_type": "execute_result"
    }
   ],
   "source": [
    "#Выбор одной строки\n",
    "df.loc['Mike', 'email']"
   ]
  },
  {
   "cell_type": "markdown",
   "metadata": {},
   "source": [
    "#### 2.3.7. Выбор нескольких строк с помощью метода .loc"
   ]
  },
  {
   "cell_type": "code",
   "execution_count": 34,
   "metadata": {},
   "outputs": [
    {
     "data": {
      "text/plain": [
       "name\n",
       "John    89869504444\n",
       "Sam     89869505555\n",
       "Katy    89869506666\n",
       "Name: phone, dtype: object"
      ]
     },
     "execution_count": 34,
     "metadata": {},
     "output_type": "execute_result"
    }
   ],
   "source": [
    "#Выбор нескольких строк\n",
    "df.loc['John':'Katy', 'phone']"
   ]
  },
  {
   "cell_type": "markdown",
   "metadata": {},
   "source": [
    "#### 2.3.8. Выбор нескольких строк и столбцов с помощью метода .loc"
   ]
  },
  {
   "cell_type": "code",
   "execution_count": 35,
   "metadata": {},
   "outputs": [
    {
     "data": {
      "text/html": [
       "<div>\n",
       "<style scoped>\n",
       "    .dataframe tbody tr th:only-of-type {\n",
       "        vertical-align: middle;\n",
       "    }\n",
       "\n",
       "    .dataframe tbody tr th {\n",
       "        vertical-align: top;\n",
       "    }\n",
       "\n",
       "    .dataframe thead th {\n",
       "        text-align: right;\n",
       "    }\n",
       "</style>\n",
       "<table border=\"1\" class=\"dataframe\">\n",
       "  <thead>\n",
       "    <tr style=\"text-align: right;\">\n",
       "      <th></th>\n",
       "      <th>email</th>\n",
       "      <th>workplace</th>\n",
       "    </tr>\n",
       "    <tr>\n",
       "      <th>name</th>\n",
       "      <th></th>\n",
       "      <th></th>\n",
       "    </tr>\n",
       "  </thead>\n",
       "  <tbody>\n",
       "    <tr>\n",
       "      <th>Tom</th>\n",
       "      <td>tom@mail.ru</td>\n",
       "      <td>Org1</td>\n",
       "    </tr>\n",
       "    <tr>\n",
       "      <th>Bob</th>\n",
       "      <td>bob@mail.ru</td>\n",
       "      <td>Org2</td>\n",
       "    </tr>\n",
       "    <tr>\n",
       "      <th>Mike</th>\n",
       "      <td>mike@mail.ru</td>\n",
       "      <td>Org3</td>\n",
       "    </tr>\n",
       "  </tbody>\n",
       "</table>\n",
       "</div>"
      ],
      "text/plain": [
       "             email workplace\n",
       "name                        \n",
       "Tom    tom@mail.ru      Org1\n",
       "Bob    bob@mail.ru      Org2\n",
       "Mike  mike@mail.ru      Org3"
      ]
     },
     "execution_count": 35,
     "metadata": {},
     "output_type": "execute_result"
    }
   ],
   "source": [
    "#Выбор нескольких строк и столбцов\n",
    "df.loc['Tom':'Mike', ['email', 'workplace']]"
   ]
  },
  {
   "cell_type": "markdown",
   "metadata": {},
   "source": [
    "### 2.4. Характеристики датафрейма Pandas"
   ]
  },
  {
   "cell_type": "markdown",
   "metadata": {},
   "source": [
    "#### 2.4.1. Создание датафрейма"
   ]
  },
  {
   "cell_type": "code",
   "execution_count": 36,
   "metadata": {},
   "outputs": [],
   "source": [
    "#Импорт\n",
    "import pandas as pd\n",
    "#Создание датафрейма\n",
    "df = pd.DataFrame([[1, 'Tom', 1111, 111111, '89869501111', 'tom@mail.ru', 'Org1', 20000], \n",
    "                   [2, 'Bob', 2222, 222222, '89869502222', 'bob@mail.ru', 'Org2', 25000], \n",
    "                   [3, 'Mike', 3333, 333333, '89869503333', 'mike@mail.ru', 'Org3', 30000],\n",
    "                   [4, 'John', 4444, 444444, '89869504444', 'john@mail.ru', 'Org4', 35000],\n",
    "                   [5, 'Sam', 5555, 555555, '89869505555', 'sam@mail.ru', 'Org5', 40000],\n",
    "                   [6, 'Katy', 6666, 666666, '89869506666', 'katy@mail.ru', None, 0]])\n",
    "#Наименование столбцов датафрейма\n",
    "df.columns = ['id', 'name', 'passport_series', 'passport_number', 'phone', 'email', 'workplace', 'salary']"
   ]
  },
  {
   "cell_type": "markdown",
   "metadata": {},
   "source": [
    "#### 2.4.2. Получение информации о датафрейме"
   ]
  },
  {
   "cell_type": "code",
   "execution_count": 37,
   "metadata": {},
   "outputs": [
    {
     "name": "stdout",
     "output_type": "stream",
     "text": [
      "<class 'pandas.core.frame.DataFrame'>\n",
      "RangeIndex: 6 entries, 0 to 5\n",
      "Data columns (total 8 columns):\n",
      " #   Column           Non-Null Count  Dtype \n",
      "---  ------           --------------  ----- \n",
      " 0   id               6 non-null      int64 \n",
      " 1   name             6 non-null      object\n",
      " 2   passport_series  6 non-null      int64 \n",
      " 3   passport_number  6 non-null      int64 \n",
      " 4   phone            6 non-null      object\n",
      " 5   email            6 non-null      object\n",
      " 6   workplace        5 non-null      object\n",
      " 7   salary           6 non-null      int64 \n",
      "dtypes: int64(4), object(4)\n",
      "memory usage: 512.0+ bytes\n"
     ]
    }
   ],
   "source": [
    "#Информация о датафрейме\n",
    "df.info()"
   ]
  },
  {
   "cell_type": "markdown",
   "metadata": {},
   "source": [
    "#### 2.4.3. Получение числа строк и столбцов датафрейма"
   ]
  },
  {
   "cell_type": "code",
   "execution_count": 38,
   "metadata": {
    "scrolled": true
   },
   "outputs": [
    {
     "data": {
      "text/plain": [
       "(6, 8)"
      ]
     },
     "execution_count": 38,
     "metadata": {},
     "output_type": "execute_result"
    }
   ],
   "source": [
    "#Число строк и столбцов\n",
    "df.shape"
   ]
  },
  {
   "cell_type": "code",
   "execution_count": 39,
   "metadata": {},
   "outputs": [
    {
     "data": {
      "text/plain": [
       "6"
      ]
     },
     "execution_count": 39,
     "metadata": {},
     "output_type": "execute_result"
    }
   ],
   "source": [
    "#Число строк\n",
    "df.shape[0]"
   ]
  },
  {
   "cell_type": "code",
   "execution_count": 40,
   "metadata": {},
   "outputs": [
    {
     "data": {
      "text/plain": [
       "8"
      ]
     },
     "execution_count": 40,
     "metadata": {},
     "output_type": "execute_result"
    }
   ],
   "source": [
    "#Число столбцов\n",
    "df.shape[1]"
   ]
  },
  {
   "cell_type": "markdown",
   "metadata": {},
   "source": [
    "#### 2.4.4. Получение описательных статистик по столбцам датафрейма"
   ]
  },
  {
   "cell_type": "code",
   "execution_count": 41,
   "metadata": {},
   "outputs": [
    {
     "data": {
      "text/html": [
       "<div>\n",
       "<style scoped>\n",
       "    .dataframe tbody tr th:only-of-type {\n",
       "        vertical-align: middle;\n",
       "    }\n",
       "\n",
       "    .dataframe tbody tr th {\n",
       "        vertical-align: top;\n",
       "    }\n",
       "\n",
       "    .dataframe thead th {\n",
       "        text-align: right;\n",
       "    }\n",
       "</style>\n",
       "<table border=\"1\" class=\"dataframe\">\n",
       "  <thead>\n",
       "    <tr style=\"text-align: right;\">\n",
       "      <th></th>\n",
       "      <th>id</th>\n",
       "      <th>passport_series</th>\n",
       "      <th>passport_number</th>\n",
       "      <th>salary</th>\n",
       "    </tr>\n",
       "  </thead>\n",
       "  <tbody>\n",
       "    <tr>\n",
       "      <th>count</th>\n",
       "      <td>6.000000</td>\n",
       "      <td>6.000000</td>\n",
       "      <td>6.000000</td>\n",
       "      <td>6.000000</td>\n",
       "    </tr>\n",
       "    <tr>\n",
       "      <th>mean</th>\n",
       "      <td>3.500000</td>\n",
       "      <td>3888.500000</td>\n",
       "      <td>388888.500000</td>\n",
       "      <td>25000.000000</td>\n",
       "    </tr>\n",
       "    <tr>\n",
       "      <th>std</th>\n",
       "      <td>1.870829</td>\n",
       "      <td>2078.490678</td>\n",
       "      <td>207869.646951</td>\n",
       "      <td>14142.135624</td>\n",
       "    </tr>\n",
       "    <tr>\n",
       "      <th>min</th>\n",
       "      <td>1.000000</td>\n",
       "      <td>1111.000000</td>\n",
       "      <td>111111.000000</td>\n",
       "      <td>0.000000</td>\n",
       "    </tr>\n",
       "    <tr>\n",
       "      <th>25%</th>\n",
       "      <td>2.250000</td>\n",
       "      <td>2499.750000</td>\n",
       "      <td>249999.750000</td>\n",
       "      <td>21250.000000</td>\n",
       "    </tr>\n",
       "    <tr>\n",
       "      <th>50%</th>\n",
       "      <td>3.500000</td>\n",
       "      <td>3888.500000</td>\n",
       "      <td>388888.500000</td>\n",
       "      <td>27500.000000</td>\n",
       "    </tr>\n",
       "    <tr>\n",
       "      <th>75%</th>\n",
       "      <td>4.750000</td>\n",
       "      <td>5277.250000</td>\n",
       "      <td>527777.250000</td>\n",
       "      <td>33750.000000</td>\n",
       "    </tr>\n",
       "    <tr>\n",
       "      <th>max</th>\n",
       "      <td>6.000000</td>\n",
       "      <td>6666.000000</td>\n",
       "      <td>666666.000000</td>\n",
       "      <td>40000.000000</td>\n",
       "    </tr>\n",
       "  </tbody>\n",
       "</table>\n",
       "</div>"
      ],
      "text/plain": [
       "             id  passport_series  passport_number        salary\n",
       "count  6.000000         6.000000         6.000000      6.000000\n",
       "mean   3.500000      3888.500000    388888.500000  25000.000000\n",
       "std    1.870829      2078.490678    207869.646951  14142.135624\n",
       "min    1.000000      1111.000000    111111.000000      0.000000\n",
       "25%    2.250000      2499.750000    249999.750000  21250.000000\n",
       "50%    3.500000      3888.500000    388888.500000  27500.000000\n",
       "75%    4.750000      5277.250000    527777.250000  33750.000000\n",
       "max    6.000000      6666.000000    666666.000000  40000.000000"
      ]
     },
     "execution_count": 41,
     "metadata": {},
     "output_type": "execute_result"
    }
   ],
   "source": [
    "#Получение статистик\n",
    "df.describe()"
   ]
  },
  {
   "cell_type": "markdown",
   "metadata": {},
   "source": [
    "#### 2.4.5. Вывод названий столбцов датафрейма"
   ]
  },
  {
   "cell_type": "code",
   "execution_count": 42,
   "metadata": {},
   "outputs": [
    {
     "data": {
      "text/plain": [
       "Index(['id', 'name', 'passport_series', 'passport_number', 'phone', 'email',\n",
       "       'workplace', 'salary'],\n",
       "      dtype='object')"
      ]
     },
     "execution_count": 42,
     "metadata": {},
     "output_type": "execute_result"
    }
   ],
   "source": [
    "#Вывод названий всех столбцов\n",
    "df.columns"
   ]
  },
  {
   "cell_type": "code",
   "execution_count": 43,
   "metadata": {},
   "outputs": [
    {
     "data": {
      "text/plain": [
       "'passport_number'"
      ]
     },
     "execution_count": 43,
     "metadata": {},
     "output_type": "execute_result"
    }
   ],
   "source": [
    "#Вывод названия одного столбца\n",
    "df.columns[3]"
   ]
  },
  {
   "cell_type": "markdown",
   "metadata": {},
   "source": [
    "#### 2.4.6. Преобразование информации о столбцах в список"
   ]
  },
  {
   "cell_type": "code",
   "execution_count": 44,
   "metadata": {},
   "outputs": [
    {
     "data": {
      "text/plain": [
       "['id',\n",
       " 'name',\n",
       " 'passport_series',\n",
       " 'passport_number',\n",
       " 'phone',\n",
       " 'email',\n",
       " 'workplace',\n",
       " 'salary']"
      ]
     },
     "execution_count": 44,
     "metadata": {},
     "output_type": "execute_result"
    }
   ],
   "source": [
    "#Преобразование в список\n",
    "list(df.columns)"
   ]
  },
  {
   "cell_type": "markdown",
   "metadata": {},
   "source": [
    "#### 2.4.7. Вывод информации о строках датафрейма"
   ]
  },
  {
   "cell_type": "code",
   "execution_count": 45,
   "metadata": {
    "scrolled": false
   },
   "outputs": [
    {
     "data": {
      "text/plain": [
       "RangeIndex(start=0, stop=6, step=1)"
      ]
     },
     "execution_count": 45,
     "metadata": {},
     "output_type": "execute_result"
    }
   ],
   "source": [
    "#Вывод информации о строках\n",
    "df.index"
   ]
  },
  {
   "cell_type": "markdown",
   "metadata": {},
   "source": [
    "### 2.5. Операции над датафреймами (Часть 1)"
   ]
  },
  {
   "cell_type": "markdown",
   "metadata": {},
   "source": [
    "#### 2.5.1. Создание датафрейма"
   ]
  },
  {
   "cell_type": "code",
   "execution_count": 46,
   "metadata": {},
   "outputs": [],
   "source": [
    "#Импорт\n",
    "import pandas as pd\n",
    "#Создание датафрейма\n",
    "df = pd.DataFrame([[1, 'Tom', 1111, 111111, '89869501111', 'tom@mail.ru', 'Org1', 20000], \n",
    "                   [2, 'Bob', 2222, 222222, '89869502222', 'bob@mail.ru', 'Org2', 25000], \n",
    "                   [3, 'Mike', 3333, 333333, '89869503333', 'mike@mail.ru', 'Org3', 30000],\n",
    "                   [4, 'John', 4444, 444444, '89869504444', 'john@mail.ru', 'Org4', 35000],\n",
    "                   [5, 'Sam', 5555, 555555, '89869505555', 'sam@mail.ru', 'Org5', 40000],\n",
    "                   [6, 'Katy', 6666, 666666, '89869506666', 'katy@mail.ru', None, 0]])\n",
    "#Наименование столбцов датафрейма\n",
    "df.columns = ['id', 'name', 'passport_series', 'passport_number', 'phone', 'email', 'workplace', 'salary']"
   ]
  },
  {
   "cell_type": "markdown",
   "metadata": {},
   "source": [
    "#### 2.5.2. Вывод первых нескольких строк датафрейма"
   ]
  },
  {
   "cell_type": "code",
   "execution_count": 47,
   "metadata": {},
   "outputs": [
    {
     "data": {
      "text/html": [
       "<div>\n",
       "<style scoped>\n",
       "    .dataframe tbody tr th:only-of-type {\n",
       "        vertical-align: middle;\n",
       "    }\n",
       "\n",
       "    .dataframe tbody tr th {\n",
       "        vertical-align: top;\n",
       "    }\n",
       "\n",
       "    .dataframe thead th {\n",
       "        text-align: right;\n",
       "    }\n",
       "</style>\n",
       "<table border=\"1\" class=\"dataframe\">\n",
       "  <thead>\n",
       "    <tr style=\"text-align: right;\">\n",
       "      <th></th>\n",
       "      <th>id</th>\n",
       "      <th>name</th>\n",
       "      <th>passport_series</th>\n",
       "      <th>passport_number</th>\n",
       "      <th>phone</th>\n",
       "      <th>email</th>\n",
       "      <th>workplace</th>\n",
       "      <th>salary</th>\n",
       "    </tr>\n",
       "  </thead>\n",
       "  <tbody>\n",
       "    <tr>\n",
       "      <th>0</th>\n",
       "      <td>1</td>\n",
       "      <td>Tom</td>\n",
       "      <td>1111</td>\n",
       "      <td>111111</td>\n",
       "      <td>89869501111</td>\n",
       "      <td>tom@mail.ru</td>\n",
       "      <td>Org1</td>\n",
       "      <td>20000</td>\n",
       "    </tr>\n",
       "    <tr>\n",
       "      <th>1</th>\n",
       "      <td>2</td>\n",
       "      <td>Bob</td>\n",
       "      <td>2222</td>\n",
       "      <td>222222</td>\n",
       "      <td>89869502222</td>\n",
       "      <td>bob@mail.ru</td>\n",
       "      <td>Org2</td>\n",
       "      <td>25000</td>\n",
       "    </tr>\n",
       "    <tr>\n",
       "      <th>2</th>\n",
       "      <td>3</td>\n",
       "      <td>Mike</td>\n",
       "      <td>3333</td>\n",
       "      <td>333333</td>\n",
       "      <td>89869503333</td>\n",
       "      <td>mike@mail.ru</td>\n",
       "      <td>Org3</td>\n",
       "      <td>30000</td>\n",
       "    </tr>\n",
       "    <tr>\n",
       "      <th>3</th>\n",
       "      <td>4</td>\n",
       "      <td>John</td>\n",
       "      <td>4444</td>\n",
       "      <td>444444</td>\n",
       "      <td>89869504444</td>\n",
       "      <td>john@mail.ru</td>\n",
       "      <td>Org4</td>\n",
       "      <td>35000</td>\n",
       "    </tr>\n",
       "    <tr>\n",
       "      <th>4</th>\n",
       "      <td>5</td>\n",
       "      <td>Sam</td>\n",
       "      <td>5555</td>\n",
       "      <td>555555</td>\n",
       "      <td>89869505555</td>\n",
       "      <td>sam@mail.ru</td>\n",
       "      <td>Org5</td>\n",
       "      <td>40000</td>\n",
       "    </tr>\n",
       "  </tbody>\n",
       "</table>\n",
       "</div>"
      ],
      "text/plain": [
       "   id  name  passport_series  passport_number        phone         email  \\\n",
       "0   1   Tom             1111           111111  89869501111   tom@mail.ru   \n",
       "1   2   Bob             2222           222222  89869502222   bob@mail.ru   \n",
       "2   3  Mike             3333           333333  89869503333  mike@mail.ru   \n",
       "3   4  John             4444           444444  89869504444  john@mail.ru   \n",
       "4   5   Sam             5555           555555  89869505555   sam@mail.ru   \n",
       "\n",
       "  workplace  salary  \n",
       "0      Org1   20000  \n",
       "1      Org2   25000  \n",
       "2      Org3   30000  \n",
       "3      Org4   35000  \n",
       "4      Org5   40000  "
      ]
     },
     "execution_count": 47,
     "metadata": {},
     "output_type": "execute_result"
    }
   ],
   "source": [
    "#Вывод по умолчанию (первые 5 строк)\n",
    "df.head()"
   ]
  },
  {
   "cell_type": "code",
   "execution_count": 48,
   "metadata": {},
   "outputs": [
    {
     "data": {
      "text/html": [
       "<div>\n",
       "<style scoped>\n",
       "    .dataframe tbody tr th:only-of-type {\n",
       "        vertical-align: middle;\n",
       "    }\n",
       "\n",
       "    .dataframe tbody tr th {\n",
       "        vertical-align: top;\n",
       "    }\n",
       "\n",
       "    .dataframe thead th {\n",
       "        text-align: right;\n",
       "    }\n",
       "</style>\n",
       "<table border=\"1\" class=\"dataframe\">\n",
       "  <thead>\n",
       "    <tr style=\"text-align: right;\">\n",
       "      <th></th>\n",
       "      <th>id</th>\n",
       "      <th>name</th>\n",
       "      <th>passport_series</th>\n",
       "      <th>passport_number</th>\n",
       "      <th>phone</th>\n",
       "      <th>email</th>\n",
       "      <th>workplace</th>\n",
       "      <th>salary</th>\n",
       "    </tr>\n",
       "  </thead>\n",
       "  <tbody>\n",
       "    <tr>\n",
       "      <th>0</th>\n",
       "      <td>1</td>\n",
       "      <td>Tom</td>\n",
       "      <td>1111</td>\n",
       "      <td>111111</td>\n",
       "      <td>89869501111</td>\n",
       "      <td>tom@mail.ru</td>\n",
       "      <td>Org1</td>\n",
       "      <td>20000</td>\n",
       "    </tr>\n",
       "    <tr>\n",
       "      <th>1</th>\n",
       "      <td>2</td>\n",
       "      <td>Bob</td>\n",
       "      <td>2222</td>\n",
       "      <td>222222</td>\n",
       "      <td>89869502222</td>\n",
       "      <td>bob@mail.ru</td>\n",
       "      <td>Org2</td>\n",
       "      <td>25000</td>\n",
       "    </tr>\n",
       "    <tr>\n",
       "      <th>2</th>\n",
       "      <td>3</td>\n",
       "      <td>Mike</td>\n",
       "      <td>3333</td>\n",
       "      <td>333333</td>\n",
       "      <td>89869503333</td>\n",
       "      <td>mike@mail.ru</td>\n",
       "      <td>Org3</td>\n",
       "      <td>30000</td>\n",
       "    </tr>\n",
       "  </tbody>\n",
       "</table>\n",
       "</div>"
      ],
      "text/plain": [
       "   id  name  passport_series  passport_number        phone         email  \\\n",
       "0   1   Tom             1111           111111  89869501111   tom@mail.ru   \n",
       "1   2   Bob             2222           222222  89869502222   bob@mail.ru   \n",
       "2   3  Mike             3333           333333  89869503333  mike@mail.ru   \n",
       "\n",
       "  workplace  salary  \n",
       "0      Org1   20000  \n",
       "1      Org2   25000  \n",
       "2      Org3   30000  "
      ]
     },
     "execution_count": 48,
     "metadata": {},
     "output_type": "execute_result"
    }
   ],
   "source": [
    "#Вывод с параметром (первые 3 строки)\n",
    "df.head(3)"
   ]
  },
  {
   "cell_type": "markdown",
   "metadata": {},
   "source": [
    "#### 2.5.3. Вывод последних несскольких строк датафрейма"
   ]
  },
  {
   "cell_type": "code",
   "execution_count": 49,
   "metadata": {},
   "outputs": [
    {
     "data": {
      "text/html": [
       "<div>\n",
       "<style scoped>\n",
       "    .dataframe tbody tr th:only-of-type {\n",
       "        vertical-align: middle;\n",
       "    }\n",
       "\n",
       "    .dataframe tbody tr th {\n",
       "        vertical-align: top;\n",
       "    }\n",
       "\n",
       "    .dataframe thead th {\n",
       "        text-align: right;\n",
       "    }\n",
       "</style>\n",
       "<table border=\"1\" class=\"dataframe\">\n",
       "  <thead>\n",
       "    <tr style=\"text-align: right;\">\n",
       "      <th></th>\n",
       "      <th>id</th>\n",
       "      <th>name</th>\n",
       "      <th>passport_series</th>\n",
       "      <th>passport_number</th>\n",
       "      <th>phone</th>\n",
       "      <th>email</th>\n",
       "      <th>workplace</th>\n",
       "      <th>salary</th>\n",
       "    </tr>\n",
       "  </thead>\n",
       "  <tbody>\n",
       "    <tr>\n",
       "      <th>1</th>\n",
       "      <td>2</td>\n",
       "      <td>Bob</td>\n",
       "      <td>2222</td>\n",
       "      <td>222222</td>\n",
       "      <td>89869502222</td>\n",
       "      <td>bob@mail.ru</td>\n",
       "      <td>Org2</td>\n",
       "      <td>25000</td>\n",
       "    </tr>\n",
       "    <tr>\n",
       "      <th>2</th>\n",
       "      <td>3</td>\n",
       "      <td>Mike</td>\n",
       "      <td>3333</td>\n",
       "      <td>333333</td>\n",
       "      <td>89869503333</td>\n",
       "      <td>mike@mail.ru</td>\n",
       "      <td>Org3</td>\n",
       "      <td>30000</td>\n",
       "    </tr>\n",
       "    <tr>\n",
       "      <th>3</th>\n",
       "      <td>4</td>\n",
       "      <td>John</td>\n",
       "      <td>4444</td>\n",
       "      <td>444444</td>\n",
       "      <td>89869504444</td>\n",
       "      <td>john@mail.ru</td>\n",
       "      <td>Org4</td>\n",
       "      <td>35000</td>\n",
       "    </tr>\n",
       "    <tr>\n",
       "      <th>4</th>\n",
       "      <td>5</td>\n",
       "      <td>Sam</td>\n",
       "      <td>5555</td>\n",
       "      <td>555555</td>\n",
       "      <td>89869505555</td>\n",
       "      <td>sam@mail.ru</td>\n",
       "      <td>Org5</td>\n",
       "      <td>40000</td>\n",
       "    </tr>\n",
       "    <tr>\n",
       "      <th>5</th>\n",
       "      <td>6</td>\n",
       "      <td>Katy</td>\n",
       "      <td>6666</td>\n",
       "      <td>666666</td>\n",
       "      <td>89869506666</td>\n",
       "      <td>katy@mail.ru</td>\n",
       "      <td>None</td>\n",
       "      <td>0</td>\n",
       "    </tr>\n",
       "  </tbody>\n",
       "</table>\n",
       "</div>"
      ],
      "text/plain": [
       "   id  name  passport_series  passport_number        phone         email  \\\n",
       "1   2   Bob             2222           222222  89869502222   bob@mail.ru   \n",
       "2   3  Mike             3333           333333  89869503333  mike@mail.ru   \n",
       "3   4  John             4444           444444  89869504444  john@mail.ru   \n",
       "4   5   Sam             5555           555555  89869505555   sam@mail.ru   \n",
       "5   6  Katy             6666           666666  89869506666  katy@mail.ru   \n",
       "\n",
       "  workplace  salary  \n",
       "1      Org2   25000  \n",
       "2      Org3   30000  \n",
       "3      Org4   35000  \n",
       "4      Org5   40000  \n",
       "5      None       0  "
      ]
     },
     "execution_count": 49,
     "metadata": {},
     "output_type": "execute_result"
    }
   ],
   "source": [
    "#Вывод по умолчанию (последние 5 строк)\n",
    "df.tail()"
   ]
  },
  {
   "cell_type": "markdown",
   "metadata": {},
   "source": [
    "#### 2.5.4. Удаление строк с пропущенными значениями (NaN)"
   ]
  },
  {
   "cell_type": "code",
   "execution_count": 50,
   "metadata": {},
   "outputs": [
    {
     "data": {
      "text/html": [
       "<div>\n",
       "<style scoped>\n",
       "    .dataframe tbody tr th:only-of-type {\n",
       "        vertical-align: middle;\n",
       "    }\n",
       "\n",
       "    .dataframe tbody tr th {\n",
       "        vertical-align: top;\n",
       "    }\n",
       "\n",
       "    .dataframe thead th {\n",
       "        text-align: right;\n",
       "    }\n",
       "</style>\n",
       "<table border=\"1\" class=\"dataframe\">\n",
       "  <thead>\n",
       "    <tr style=\"text-align: right;\">\n",
       "      <th></th>\n",
       "      <th>id</th>\n",
       "      <th>name</th>\n",
       "      <th>passport_series</th>\n",
       "      <th>passport_number</th>\n",
       "      <th>phone</th>\n",
       "      <th>email</th>\n",
       "      <th>workplace</th>\n",
       "      <th>salary</th>\n",
       "    </tr>\n",
       "  </thead>\n",
       "  <tbody>\n",
       "    <tr>\n",
       "      <th>0</th>\n",
       "      <td>1</td>\n",
       "      <td>Tom</td>\n",
       "      <td>1111</td>\n",
       "      <td>111111</td>\n",
       "      <td>89869501111</td>\n",
       "      <td>tom@mail.ru</td>\n",
       "      <td>Org1</td>\n",
       "      <td>20000</td>\n",
       "    </tr>\n",
       "    <tr>\n",
       "      <th>1</th>\n",
       "      <td>2</td>\n",
       "      <td>Bob</td>\n",
       "      <td>2222</td>\n",
       "      <td>222222</td>\n",
       "      <td>89869502222</td>\n",
       "      <td>bob@mail.ru</td>\n",
       "      <td>Org2</td>\n",
       "      <td>25000</td>\n",
       "    </tr>\n",
       "    <tr>\n",
       "      <th>2</th>\n",
       "      <td>3</td>\n",
       "      <td>Mike</td>\n",
       "      <td>3333</td>\n",
       "      <td>333333</td>\n",
       "      <td>89869503333</td>\n",
       "      <td>mike@mail.ru</td>\n",
       "      <td>Org3</td>\n",
       "      <td>30000</td>\n",
       "    </tr>\n",
       "    <tr>\n",
       "      <th>3</th>\n",
       "      <td>4</td>\n",
       "      <td>John</td>\n",
       "      <td>4444</td>\n",
       "      <td>444444</td>\n",
       "      <td>89869504444</td>\n",
       "      <td>john@mail.ru</td>\n",
       "      <td>Org4</td>\n",
       "      <td>35000</td>\n",
       "    </tr>\n",
       "    <tr>\n",
       "      <th>4</th>\n",
       "      <td>5</td>\n",
       "      <td>Sam</td>\n",
       "      <td>5555</td>\n",
       "      <td>555555</td>\n",
       "      <td>89869505555</td>\n",
       "      <td>sam@mail.ru</td>\n",
       "      <td>Org5</td>\n",
       "      <td>40000</td>\n",
       "    </tr>\n",
       "  </tbody>\n",
       "</table>\n",
       "</div>"
      ],
      "text/plain": [
       "   id  name  passport_series  passport_number        phone         email  \\\n",
       "0   1   Tom             1111           111111  89869501111   tom@mail.ru   \n",
       "1   2   Bob             2222           222222  89869502222   bob@mail.ru   \n",
       "2   3  Mike             3333           333333  89869503333  mike@mail.ru   \n",
       "3   4  John             4444           444444  89869504444  john@mail.ru   \n",
       "4   5   Sam             5555           555555  89869505555   sam@mail.ru   \n",
       "\n",
       "  workplace  salary  \n",
       "0      Org1   20000  \n",
       "1      Org2   25000  \n",
       "2      Org3   30000  \n",
       "3      Org4   35000  \n",
       "4      Org5   40000  "
      ]
     },
     "execution_count": 50,
     "metadata": {},
     "output_type": "execute_result"
    }
   ],
   "source": [
    "#Удаление строк с NaN\n",
    "df = df.dropna()\n",
    "#Вывод\n",
    "df"
   ]
  },
  {
   "cell_type": "markdown",
   "metadata": {},
   "source": [
    "#### 2.5.5. Выбор строк по условию"
   ]
  },
  {
   "cell_type": "code",
   "execution_count": 51,
   "metadata": {},
   "outputs": [
    {
     "data": {
      "text/html": [
       "<div>\n",
       "<style scoped>\n",
       "    .dataframe tbody tr th:only-of-type {\n",
       "        vertical-align: middle;\n",
       "    }\n",
       "\n",
       "    .dataframe tbody tr th {\n",
       "        vertical-align: top;\n",
       "    }\n",
       "\n",
       "    .dataframe thead th {\n",
       "        text-align: right;\n",
       "    }\n",
       "</style>\n",
       "<table border=\"1\" class=\"dataframe\">\n",
       "  <thead>\n",
       "    <tr style=\"text-align: right;\">\n",
       "      <th></th>\n",
       "      <th>id</th>\n",
       "      <th>name</th>\n",
       "      <th>passport_series</th>\n",
       "      <th>passport_number</th>\n",
       "      <th>phone</th>\n",
       "      <th>email</th>\n",
       "      <th>workplace</th>\n",
       "      <th>salary</th>\n",
       "    </tr>\n",
       "  </thead>\n",
       "  <tbody>\n",
       "    <tr>\n",
       "      <th>2</th>\n",
       "      <td>3</td>\n",
       "      <td>Mike</td>\n",
       "      <td>3333</td>\n",
       "      <td>333333</td>\n",
       "      <td>89869503333</td>\n",
       "      <td>mike@mail.ru</td>\n",
       "      <td>Org3</td>\n",
       "      <td>30000</td>\n",
       "    </tr>\n",
       "    <tr>\n",
       "      <th>3</th>\n",
       "      <td>4</td>\n",
       "      <td>John</td>\n",
       "      <td>4444</td>\n",
       "      <td>444444</td>\n",
       "      <td>89869504444</td>\n",
       "      <td>john@mail.ru</td>\n",
       "      <td>Org4</td>\n",
       "      <td>35000</td>\n",
       "    </tr>\n",
       "    <tr>\n",
       "      <th>4</th>\n",
       "      <td>5</td>\n",
       "      <td>Sam</td>\n",
       "      <td>5555</td>\n",
       "      <td>555555</td>\n",
       "      <td>89869505555</td>\n",
       "      <td>sam@mail.ru</td>\n",
       "      <td>Org5</td>\n",
       "      <td>40000</td>\n",
       "    </tr>\n",
       "  </tbody>\n",
       "</table>\n",
       "</div>"
      ],
      "text/plain": [
       "   id  name  passport_series  passport_number        phone         email  \\\n",
       "2   3  Mike             3333           333333  89869503333  mike@mail.ru   \n",
       "3   4  John             4444           444444  89869504444  john@mail.ru   \n",
       "4   5   Sam             5555           555555  89869505555   sam@mail.ru   \n",
       "\n",
       "  workplace  salary  \n",
       "2      Org3   30000  \n",
       "3      Org4   35000  \n",
       "4      Org5   40000  "
      ]
     },
     "execution_count": 51,
     "metadata": {},
     "output_type": "execute_result"
    }
   ],
   "source": [
    "#Одно условие\n",
    "df[df['salary'] >= 30000]"
   ]
  },
  {
   "cell_type": "markdown",
   "metadata": {},
   "source": [
    "#### 2.5.6. Выбор строк по нескольким условиям (операция &)"
   ]
  },
  {
   "cell_type": "code",
   "execution_count": 52,
   "metadata": {},
   "outputs": [
    {
     "data": {
      "text/html": [
       "<div>\n",
       "<style scoped>\n",
       "    .dataframe tbody tr th:only-of-type {\n",
       "        vertical-align: middle;\n",
       "    }\n",
       "\n",
       "    .dataframe tbody tr th {\n",
       "        vertical-align: top;\n",
       "    }\n",
       "\n",
       "    .dataframe thead th {\n",
       "        text-align: right;\n",
       "    }\n",
       "</style>\n",
       "<table border=\"1\" class=\"dataframe\">\n",
       "  <thead>\n",
       "    <tr style=\"text-align: right;\">\n",
       "      <th></th>\n",
       "      <th>id</th>\n",
       "      <th>name</th>\n",
       "      <th>passport_series</th>\n",
       "      <th>passport_number</th>\n",
       "      <th>phone</th>\n",
       "      <th>email</th>\n",
       "      <th>workplace</th>\n",
       "      <th>salary</th>\n",
       "    </tr>\n",
       "  </thead>\n",
       "  <tbody>\n",
       "    <tr>\n",
       "      <th>1</th>\n",
       "      <td>2</td>\n",
       "      <td>Bob</td>\n",
       "      <td>2222</td>\n",
       "      <td>222222</td>\n",
       "      <td>89869502222</td>\n",
       "      <td>bob@mail.ru</td>\n",
       "      <td>Org2</td>\n",
       "      <td>25000</td>\n",
       "    </tr>\n",
       "    <tr>\n",
       "      <th>2</th>\n",
       "      <td>3</td>\n",
       "      <td>Mike</td>\n",
       "      <td>3333</td>\n",
       "      <td>333333</td>\n",
       "      <td>89869503333</td>\n",
       "      <td>mike@mail.ru</td>\n",
       "      <td>Org3</td>\n",
       "      <td>30000</td>\n",
       "    </tr>\n",
       "    <tr>\n",
       "      <th>3</th>\n",
       "      <td>4</td>\n",
       "      <td>John</td>\n",
       "      <td>4444</td>\n",
       "      <td>444444</td>\n",
       "      <td>89869504444</td>\n",
       "      <td>john@mail.ru</td>\n",
       "      <td>Org4</td>\n",
       "      <td>35000</td>\n",
       "    </tr>\n",
       "  </tbody>\n",
       "</table>\n",
       "</div>"
      ],
      "text/plain": [
       "   id  name  passport_series  passport_number        phone         email  \\\n",
       "1   2   Bob             2222           222222  89869502222   bob@mail.ru   \n",
       "2   3  Mike             3333           333333  89869503333  mike@mail.ru   \n",
       "3   4  John             4444           444444  89869504444  john@mail.ru   \n",
       "\n",
       "  workplace  salary  \n",
       "1      Org2   25000  \n",
       "2      Org3   30000  \n",
       "3      Org4   35000  "
      ]
     },
     "execution_count": 52,
     "metadata": {},
     "output_type": "execute_result"
    }
   ],
   "source": [
    "#Несколько условий (операция &)\n",
    "df[(df['salary'] > 20000) & (df['salary'] < 40000)]"
   ]
  },
  {
   "cell_type": "markdown",
   "metadata": {},
   "source": [
    "#### 2.5.7. Выбор строк по нескольким условиям (операция |)"
   ]
  },
  {
   "cell_type": "code",
   "execution_count": 53,
   "metadata": {},
   "outputs": [
    {
     "data": {
      "text/html": [
       "<div>\n",
       "<style scoped>\n",
       "    .dataframe tbody tr th:only-of-type {\n",
       "        vertical-align: middle;\n",
       "    }\n",
       "\n",
       "    .dataframe tbody tr th {\n",
       "        vertical-align: top;\n",
       "    }\n",
       "\n",
       "    .dataframe thead th {\n",
       "        text-align: right;\n",
       "    }\n",
       "</style>\n",
       "<table border=\"1\" class=\"dataframe\">\n",
       "  <thead>\n",
       "    <tr style=\"text-align: right;\">\n",
       "      <th></th>\n",
       "      <th>id</th>\n",
       "      <th>name</th>\n",
       "      <th>passport_series</th>\n",
       "      <th>passport_number</th>\n",
       "      <th>phone</th>\n",
       "      <th>email</th>\n",
       "      <th>workplace</th>\n",
       "      <th>salary</th>\n",
       "    </tr>\n",
       "  </thead>\n",
       "  <tbody>\n",
       "    <tr>\n",
       "      <th>0</th>\n",
       "      <td>1</td>\n",
       "      <td>Tom</td>\n",
       "      <td>1111</td>\n",
       "      <td>111111</td>\n",
       "      <td>89869501111</td>\n",
       "      <td>tom@mail.ru</td>\n",
       "      <td>Org1</td>\n",
       "      <td>20000</td>\n",
       "    </tr>\n",
       "    <tr>\n",
       "      <th>4</th>\n",
       "      <td>5</td>\n",
       "      <td>Sam</td>\n",
       "      <td>5555</td>\n",
       "      <td>555555</td>\n",
       "      <td>89869505555</td>\n",
       "      <td>sam@mail.ru</td>\n",
       "      <td>Org5</td>\n",
       "      <td>40000</td>\n",
       "    </tr>\n",
       "  </tbody>\n",
       "</table>\n",
       "</div>"
      ],
      "text/plain": [
       "   id name  passport_series  passport_number        phone        email  \\\n",
       "0   1  Tom             1111           111111  89869501111  tom@mail.ru   \n",
       "4   5  Sam             5555           555555  89869505555  sam@mail.ru   \n",
       "\n",
       "  workplace  salary  \n",
       "0      Org1   20000  \n",
       "4      Org5   40000  "
      ]
     },
     "execution_count": 53,
     "metadata": {},
     "output_type": "execute_result"
    }
   ],
   "source": [
    "#Несколько условий (операция |)\n",
    "df[(df['workplace'] == 'Org1') | (df['workplace'] == 'Org5')]"
   ]
  },
  {
   "cell_type": "markdown",
   "metadata": {},
   "source": [
    "### 2.6. Операции над датафреймами (Часть 2)"
   ]
  },
  {
   "cell_type": "markdown",
   "metadata": {},
   "source": [
    "#### 2.6.1. Создание датафрейма"
   ]
  },
  {
   "cell_type": "code",
   "execution_count": 54,
   "metadata": {},
   "outputs": [],
   "source": [
    "#Импорт\n",
    "import pandas as pd\n",
    "#Создание датафрейма\n",
    "df = pd.DataFrame([[1, 'Tom', 1111, 111111, '89869501111', 'tom@mail.ru', 'Org1', 20000], \n",
    "                   [2, 'Bob', 2222, 222222, '89869502222', 'bob@mail.ru', 'Org2', 25000], \n",
    "                   [3, 'Mike', 3333, 333333, '89869503333', 'mike@mail.ru', 'Org3', 30000],\n",
    "                   [4, 'John', 4444, 444444, '89869504444', 'john@mail.ru', 'Org4', 35000],\n",
    "                   [5, 'Sam', 5555, 555555, '89869505555', 'sam@mail.ru', 'Org5', 40000],\n",
    "                   [6, 'Katy', 6666, 666666, '89869506666', 'katy@mail.ru', None, 0]])\n",
    "#Наименование столбцов датафрейма\n",
    "df.columns = ['id', 'name', 'passport_series', 'passport_number', 'phone', 'email', 'workplace', 'salary']"
   ]
  },
  {
   "cell_type": "markdown",
   "metadata": {},
   "source": [
    "#### 2.6.2. Создание нового столбца по значениям из старых столбцов"
   ]
  },
  {
   "cell_type": "code",
   "execution_count": 55,
   "metadata": {},
   "outputs": [
    {
     "data": {
      "text/html": [
       "<div>\n",
       "<style scoped>\n",
       "    .dataframe tbody tr th:only-of-type {\n",
       "        vertical-align: middle;\n",
       "    }\n",
       "\n",
       "    .dataframe tbody tr th {\n",
       "        vertical-align: top;\n",
       "    }\n",
       "\n",
       "    .dataframe thead th {\n",
       "        text-align: right;\n",
       "    }\n",
       "</style>\n",
       "<table border=\"1\" class=\"dataframe\">\n",
       "  <thead>\n",
       "    <tr style=\"text-align: right;\">\n",
       "      <th></th>\n",
       "      <th>id</th>\n",
       "      <th>name</th>\n",
       "      <th>passport_series</th>\n",
       "      <th>passport_number</th>\n",
       "      <th>phone</th>\n",
       "      <th>email</th>\n",
       "      <th>workplace</th>\n",
       "      <th>salary</th>\n",
       "      <th>salary_after_tax</th>\n",
       "    </tr>\n",
       "  </thead>\n",
       "  <tbody>\n",
       "    <tr>\n",
       "      <th>0</th>\n",
       "      <td>1</td>\n",
       "      <td>Tom</td>\n",
       "      <td>1111</td>\n",
       "      <td>111111</td>\n",
       "      <td>89869501111</td>\n",
       "      <td>tom@mail.ru</td>\n",
       "      <td>Org1</td>\n",
       "      <td>20000</td>\n",
       "      <td>17400.0</td>\n",
       "    </tr>\n",
       "    <tr>\n",
       "      <th>1</th>\n",
       "      <td>2</td>\n",
       "      <td>Bob</td>\n",
       "      <td>2222</td>\n",
       "      <td>222222</td>\n",
       "      <td>89869502222</td>\n",
       "      <td>bob@mail.ru</td>\n",
       "      <td>Org2</td>\n",
       "      <td>25000</td>\n",
       "      <td>21750.0</td>\n",
       "    </tr>\n",
       "    <tr>\n",
       "      <th>2</th>\n",
       "      <td>3</td>\n",
       "      <td>Mike</td>\n",
       "      <td>3333</td>\n",
       "      <td>333333</td>\n",
       "      <td>89869503333</td>\n",
       "      <td>mike@mail.ru</td>\n",
       "      <td>Org3</td>\n",
       "      <td>30000</td>\n",
       "      <td>26100.0</td>\n",
       "    </tr>\n",
       "    <tr>\n",
       "      <th>3</th>\n",
       "      <td>4</td>\n",
       "      <td>John</td>\n",
       "      <td>4444</td>\n",
       "      <td>444444</td>\n",
       "      <td>89869504444</td>\n",
       "      <td>john@mail.ru</td>\n",
       "      <td>Org4</td>\n",
       "      <td>35000</td>\n",
       "      <td>30450.0</td>\n",
       "    </tr>\n",
       "    <tr>\n",
       "      <th>4</th>\n",
       "      <td>5</td>\n",
       "      <td>Sam</td>\n",
       "      <td>5555</td>\n",
       "      <td>555555</td>\n",
       "      <td>89869505555</td>\n",
       "      <td>sam@mail.ru</td>\n",
       "      <td>Org5</td>\n",
       "      <td>40000</td>\n",
       "      <td>34800.0</td>\n",
       "    </tr>\n",
       "    <tr>\n",
       "      <th>5</th>\n",
       "      <td>6</td>\n",
       "      <td>Katy</td>\n",
       "      <td>6666</td>\n",
       "      <td>666666</td>\n",
       "      <td>89869506666</td>\n",
       "      <td>katy@mail.ru</td>\n",
       "      <td>None</td>\n",
       "      <td>0</td>\n",
       "      <td>0.0</td>\n",
       "    </tr>\n",
       "  </tbody>\n",
       "</table>\n",
       "</div>"
      ],
      "text/plain": [
       "   id  name  passport_series  passport_number        phone         email  \\\n",
       "0   1   Tom             1111           111111  89869501111   tom@mail.ru   \n",
       "1   2   Bob             2222           222222  89869502222   bob@mail.ru   \n",
       "2   3  Mike             3333           333333  89869503333  mike@mail.ru   \n",
       "3   4  John             4444           444444  89869504444  john@mail.ru   \n",
       "4   5   Sam             5555           555555  89869505555   sam@mail.ru   \n",
       "5   6  Katy             6666           666666  89869506666  katy@mail.ru   \n",
       "\n",
       "  workplace  salary  salary_after_tax  \n",
       "0      Org1   20000           17400.0  \n",
       "1      Org2   25000           21750.0  \n",
       "2      Org3   30000           26100.0  \n",
       "3      Org4   35000           30450.0  \n",
       "4      Org5   40000           34800.0  \n",
       "5      None       0               0.0  "
      ]
     },
     "execution_count": 55,
     "metadata": {},
     "output_type": "execute_result"
    }
   ],
   "source": [
    "#Создание столбца\n",
    "df['salary_after_tax'] = df['salary'] * 0.87\n",
    "#Вывод\n",
    "df"
   ]
  },
  {
   "cell_type": "markdown",
   "metadata": {},
   "source": [
    "#### 2.6.3. Создание нового столбца из одного значения"
   ]
  },
  {
   "cell_type": "code",
   "execution_count": 56,
   "metadata": {},
   "outputs": [
    {
     "data": {
      "text/html": [
       "<div>\n",
       "<style scoped>\n",
       "    .dataframe tbody tr th:only-of-type {\n",
       "        vertical-align: middle;\n",
       "    }\n",
       "\n",
       "    .dataframe tbody tr th {\n",
       "        vertical-align: top;\n",
       "    }\n",
       "\n",
       "    .dataframe thead th {\n",
       "        text-align: right;\n",
       "    }\n",
       "</style>\n",
       "<table border=\"1\" class=\"dataframe\">\n",
       "  <thead>\n",
       "    <tr style=\"text-align: right;\">\n",
       "      <th></th>\n",
       "      <th>id</th>\n",
       "      <th>name</th>\n",
       "      <th>passport_series</th>\n",
       "      <th>passport_number</th>\n",
       "      <th>phone</th>\n",
       "      <th>email</th>\n",
       "      <th>workplace</th>\n",
       "      <th>salary</th>\n",
       "      <th>salary_after_tax</th>\n",
       "      <th>bank_status</th>\n",
       "    </tr>\n",
       "  </thead>\n",
       "  <tbody>\n",
       "    <tr>\n",
       "      <th>0</th>\n",
       "      <td>1</td>\n",
       "      <td>Tom</td>\n",
       "      <td>1111</td>\n",
       "      <td>111111</td>\n",
       "      <td>89869501111</td>\n",
       "      <td>tom@mail.ru</td>\n",
       "      <td>Org1</td>\n",
       "      <td>20000</td>\n",
       "      <td>17400.0</td>\n",
       "      <td>client</td>\n",
       "    </tr>\n",
       "    <tr>\n",
       "      <th>1</th>\n",
       "      <td>2</td>\n",
       "      <td>Bob</td>\n",
       "      <td>2222</td>\n",
       "      <td>222222</td>\n",
       "      <td>89869502222</td>\n",
       "      <td>bob@mail.ru</td>\n",
       "      <td>Org2</td>\n",
       "      <td>25000</td>\n",
       "      <td>21750.0</td>\n",
       "      <td>client</td>\n",
       "    </tr>\n",
       "    <tr>\n",
       "      <th>2</th>\n",
       "      <td>3</td>\n",
       "      <td>Mike</td>\n",
       "      <td>3333</td>\n",
       "      <td>333333</td>\n",
       "      <td>89869503333</td>\n",
       "      <td>mike@mail.ru</td>\n",
       "      <td>Org3</td>\n",
       "      <td>30000</td>\n",
       "      <td>26100.0</td>\n",
       "      <td>client</td>\n",
       "    </tr>\n",
       "    <tr>\n",
       "      <th>3</th>\n",
       "      <td>4</td>\n",
       "      <td>John</td>\n",
       "      <td>4444</td>\n",
       "      <td>444444</td>\n",
       "      <td>89869504444</td>\n",
       "      <td>john@mail.ru</td>\n",
       "      <td>Org4</td>\n",
       "      <td>35000</td>\n",
       "      <td>30450.0</td>\n",
       "      <td>client</td>\n",
       "    </tr>\n",
       "    <tr>\n",
       "      <th>4</th>\n",
       "      <td>5</td>\n",
       "      <td>Sam</td>\n",
       "      <td>5555</td>\n",
       "      <td>555555</td>\n",
       "      <td>89869505555</td>\n",
       "      <td>sam@mail.ru</td>\n",
       "      <td>Org5</td>\n",
       "      <td>40000</td>\n",
       "      <td>34800.0</td>\n",
       "      <td>client</td>\n",
       "    </tr>\n",
       "    <tr>\n",
       "      <th>5</th>\n",
       "      <td>6</td>\n",
       "      <td>Katy</td>\n",
       "      <td>6666</td>\n",
       "      <td>666666</td>\n",
       "      <td>89869506666</td>\n",
       "      <td>katy@mail.ru</td>\n",
       "      <td>None</td>\n",
       "      <td>0</td>\n",
       "      <td>0.0</td>\n",
       "      <td>client</td>\n",
       "    </tr>\n",
       "  </tbody>\n",
       "</table>\n",
       "</div>"
      ],
      "text/plain": [
       "   id  name  passport_series  passport_number        phone         email  \\\n",
       "0   1   Tom             1111           111111  89869501111   tom@mail.ru   \n",
       "1   2   Bob             2222           222222  89869502222   bob@mail.ru   \n",
       "2   3  Mike             3333           333333  89869503333  mike@mail.ru   \n",
       "3   4  John             4444           444444  89869504444  john@mail.ru   \n",
       "4   5   Sam             5555           555555  89869505555   sam@mail.ru   \n",
       "5   6  Katy             6666           666666  89869506666  katy@mail.ru   \n",
       "\n",
       "  workplace  salary  salary_after_tax bank_status  \n",
       "0      Org1   20000           17400.0      client  \n",
       "1      Org2   25000           21750.0      client  \n",
       "2      Org3   30000           26100.0      client  \n",
       "3      Org4   35000           30450.0      client  \n",
       "4      Org5   40000           34800.0      client  \n",
       "5      None       0               0.0      client  "
      ]
     },
     "execution_count": 56,
     "metadata": {},
     "output_type": "execute_result"
    }
   ],
   "source": [
    "#Столбец из одного значения\n",
    "df['bank_status'] = 'client'\n",
    "#Вывод\n",
    "df"
   ]
  },
  {
   "cell_type": "markdown",
   "metadata": {},
   "source": [
    "#### 2.6.4. Создание нового столбца из списка значений"
   ]
  },
  {
   "cell_type": "code",
   "execution_count": 57,
   "metadata": {},
   "outputs": [
    {
     "data": {
      "text/html": [
       "<div>\n",
       "<style scoped>\n",
       "    .dataframe tbody tr th:only-of-type {\n",
       "        vertical-align: middle;\n",
       "    }\n",
       "\n",
       "    .dataframe tbody tr th {\n",
       "        vertical-align: top;\n",
       "    }\n",
       "\n",
       "    .dataframe thead th {\n",
       "        text-align: right;\n",
       "    }\n",
       "</style>\n",
       "<table border=\"1\" class=\"dataframe\">\n",
       "  <thead>\n",
       "    <tr style=\"text-align: right;\">\n",
       "      <th></th>\n",
       "      <th>id</th>\n",
       "      <th>name</th>\n",
       "      <th>passport_series</th>\n",
       "      <th>passport_number</th>\n",
       "      <th>phone</th>\n",
       "      <th>email</th>\n",
       "      <th>workplace</th>\n",
       "      <th>salary</th>\n",
       "      <th>salary_after_tax</th>\n",
       "      <th>bank_status</th>\n",
       "      <th>gender</th>\n",
       "    </tr>\n",
       "  </thead>\n",
       "  <tbody>\n",
       "    <tr>\n",
       "      <th>0</th>\n",
       "      <td>1</td>\n",
       "      <td>Tom</td>\n",
       "      <td>1111</td>\n",
       "      <td>111111</td>\n",
       "      <td>89869501111</td>\n",
       "      <td>tom@mail.ru</td>\n",
       "      <td>Org1</td>\n",
       "      <td>20000</td>\n",
       "      <td>17400.0</td>\n",
       "      <td>client</td>\n",
       "      <td>1</td>\n",
       "    </tr>\n",
       "    <tr>\n",
       "      <th>1</th>\n",
       "      <td>2</td>\n",
       "      <td>Bob</td>\n",
       "      <td>2222</td>\n",
       "      <td>222222</td>\n",
       "      <td>89869502222</td>\n",
       "      <td>bob@mail.ru</td>\n",
       "      <td>Org2</td>\n",
       "      <td>25000</td>\n",
       "      <td>21750.0</td>\n",
       "      <td>client</td>\n",
       "      <td>1</td>\n",
       "    </tr>\n",
       "    <tr>\n",
       "      <th>2</th>\n",
       "      <td>3</td>\n",
       "      <td>Mike</td>\n",
       "      <td>3333</td>\n",
       "      <td>333333</td>\n",
       "      <td>89869503333</td>\n",
       "      <td>mike@mail.ru</td>\n",
       "      <td>Org3</td>\n",
       "      <td>30000</td>\n",
       "      <td>26100.0</td>\n",
       "      <td>client</td>\n",
       "      <td>1</td>\n",
       "    </tr>\n",
       "    <tr>\n",
       "      <th>3</th>\n",
       "      <td>4</td>\n",
       "      <td>John</td>\n",
       "      <td>4444</td>\n",
       "      <td>444444</td>\n",
       "      <td>89869504444</td>\n",
       "      <td>john@mail.ru</td>\n",
       "      <td>Org4</td>\n",
       "      <td>35000</td>\n",
       "      <td>30450.0</td>\n",
       "      <td>client</td>\n",
       "      <td>1</td>\n",
       "    </tr>\n",
       "    <tr>\n",
       "      <th>4</th>\n",
       "      <td>5</td>\n",
       "      <td>Sam</td>\n",
       "      <td>5555</td>\n",
       "      <td>555555</td>\n",
       "      <td>89869505555</td>\n",
       "      <td>sam@mail.ru</td>\n",
       "      <td>Org5</td>\n",
       "      <td>40000</td>\n",
       "      <td>34800.0</td>\n",
       "      <td>client</td>\n",
       "      <td>1</td>\n",
       "    </tr>\n",
       "    <tr>\n",
       "      <th>5</th>\n",
       "      <td>6</td>\n",
       "      <td>Katy</td>\n",
       "      <td>6666</td>\n",
       "      <td>666666</td>\n",
       "      <td>89869506666</td>\n",
       "      <td>katy@mail.ru</td>\n",
       "      <td>None</td>\n",
       "      <td>0</td>\n",
       "      <td>0.0</td>\n",
       "      <td>client</td>\n",
       "      <td>0</td>\n",
       "    </tr>\n",
       "  </tbody>\n",
       "</table>\n",
       "</div>"
      ],
      "text/plain": [
       "   id  name  passport_series  passport_number        phone         email  \\\n",
       "0   1   Tom             1111           111111  89869501111   tom@mail.ru   \n",
       "1   2   Bob             2222           222222  89869502222   bob@mail.ru   \n",
       "2   3  Mike             3333           333333  89869503333  mike@mail.ru   \n",
       "3   4  John             4444           444444  89869504444  john@mail.ru   \n",
       "4   5   Sam             5555           555555  89869505555   sam@mail.ru   \n",
       "5   6  Katy             6666           666666  89869506666  katy@mail.ru   \n",
       "\n",
       "  workplace  salary  salary_after_tax bank_status  gender  \n",
       "0      Org1   20000           17400.0      client       1  \n",
       "1      Org2   25000           21750.0      client       1  \n",
       "2      Org3   30000           26100.0      client       1  \n",
       "3      Org4   35000           30450.0      client       1  \n",
       "4      Org5   40000           34800.0      client       1  \n",
       "5      None       0               0.0      client       0  "
      ]
     },
     "execution_count": 57,
     "metadata": {},
     "output_type": "execute_result"
    }
   ],
   "source": [
    "#Столбец из списка значений\n",
    "df['gender'] = [1, 1, 1, 1, 1, 0]\n",
    "#Вывод\n",
    "df"
   ]
  }
 ],
 "metadata": {
  "kernelspec": {
   "display_name": "Python 3 (ipykernel)",
   "language": "python",
   "name": "python3"
  },
  "language_info": {
   "codemirror_mode": {
    "name": "ipython",
    "version": 3
   },
   "file_extension": ".py",
   "mimetype": "text/x-python",
   "name": "python",
   "nbconvert_exporter": "python",
   "pygments_lexer": "ipython3",
   "version": "3.9.7"
  }
 },
 "nbformat": 4,
 "nbformat_minor": 2
}
